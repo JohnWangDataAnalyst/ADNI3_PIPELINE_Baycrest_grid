{
  "nbformat": 4,
  "nbformat_minor": 0,
  "metadata": {
    "colab": {
      "name": "PPMI_modelfitting_postanalysis.ipynb",
      "provenance": [],
      "collapsed_sections": [],
      "authorship_tag": "ABX9TyM/irJIcHV/fbWNIvSObERn",
      "include_colab_link": true
    },
    "kernelspec": {
      "name": "python3",
      "display_name": "Python 3"
    }
  },
  "cells": [
    {
      "cell_type": "markdown",
      "metadata": {
        "id": "view-in-github",
        "colab_type": "text"
      },
      "source": [
        "<a href=\"https://colab.research.google.com/github/JohnWangDataAnalyst/ADNI3_PIPELINE_Baycrest_grid/blob/master/PPMI_modelfitting_postanalysis.ipynb\" target=\"_parent\"><img src=\"https://colab.research.google.com/assets/colab-badge.svg\" alt=\"Open In Colab\"/></a>"
      ]
    },
    {
      "cell_type": "code",
      "metadata": {
        "id": "Pd2ic0FDH-kJ"
      },
      "source": [
        "import numpy as np\n",
        "import pandas as pd\n",
        "import matplotlib.pyplot as plt\n",
        "import seaborn as sns"
      ],
      "execution_count": 1,
      "outputs": []
    },
    {
      "cell_type": "code",
      "metadata": {
        "id": "F98iCiDAIRCL"
      },
      "source": [
        "from google.colab import drive"
      ],
      "execution_count": 2,
      "outputs": []
    },
    {
      "cell_type": "code",
      "metadata": {
        "colab": {
          "base_uri": "https://localhost:8080/"
        },
        "id": "cssi7nNQTy5e",
        "outputId": "ab2ec74b-305b-497c-bf4f-9808c9f2036a"
      },
      "source": [
        "drive.mount('/content/drive/')"
      ],
      "execution_count": 3,
      "outputs": [
        {
          "output_type": "stream",
          "text": [
            "Mounted at /content/drive/\n"
          ],
          "name": "stdout"
        }
      ]
    },
    {
      "cell_type": "code",
      "metadata": {
        "colab": {
          "base_uri": "https://localhost:8080/"
        },
        "id": "MP7r-0BWRNr_",
        "outputId": "a1954e08-3937-474c-a3c8-004ad43121e5"
      },
      "source": [
        "%cd /content/drive/MyDrive/Work/Sciencing/pyls/"
      ],
      "execution_count": 4,
      "outputs": [
        {
          "output_type": "stream",
          "text": [
            "/content/drive/MyDrive/Work/Sciencing/pyls\n"
          ],
          "name": "stdout"
        }
      ]
    },
    {
      "cell_type": "code",
      "metadata": {
        "colab": {
          "base_uri": "https://localhost:8080/"
        },
        "id": "ldIe_VWiR81W",
        "outputId": "88636cc7-c261-4547-8d3c-3b90d1e9a00e"
      },
      "source": [
        "! pwd\n",
        "!vim pyls_test/examples/datasets.py"
      ],
      "execution_count": null,
      "outputs": [
        {
          "output_type": "stream",
          "text": [
            "/content/drive/MyDrive/Work/Sciencing/pyls\n",
            "/bin/bash: vim: command not found\n"
          ],
          "name": "stdout"
        }
      ]
    },
    {
      "cell_type": "code",
      "metadata": {
        "colab": {
          "base_uri": "https://localhost:8080/"
        },
        "id": "UCcm5kfgIwkg",
        "outputId": "e4ad4322-3d89-4c70-8d38-ecd0ccc4e1d6"
      },
      "source": [
        "! python setup.py install"
      ],
      "execution_count": null,
      "outputs": [
        {
          "output_type": "stream",
          "text": [
            "running install\n",
            "running bdist_egg\n",
            "running egg_info\n",
            "writing pyls.egg-info/PKG-INFO\n",
            "writing dependency_links to pyls.egg-info/dependency_links.txt\n",
            "writing requirements to pyls.egg-info/requires.txt\n",
            "writing top-level names to pyls.egg-info/top_level.txt\n",
            "reading manifest template 'MANIFEST.in'\n",
            "warning: no files found matching 'pyls/examples/datasets.json'\n",
            "warning: no files found matching '*' under directory 'pyls/tests/data'\n",
            "warning: no files found matching 'pyls/_version.py'\n",
            "writing manifest file 'pyls.egg-info/SOURCES.txt'\n",
            "installing library code to build/bdist.linux-x86_64/egg\n",
            "running install_lib\n",
            "running build_py\n",
            "Warning: build in /content/drive/MyDrive/Work/Sciencing/pyls is using versioneer.py from /content/drive/My Drive/Work/Sciencing/pyls/versioneer.py\n",
            "Warning: build in /content/drive/MyDrive/Work/Sciencing/pyls is using versioneer.py from /content/drive/My Drive/Work/Sciencing/pyls/versioneer.py\n",
            "creating build/lib/pyls_test\n",
            "copying pyls_test/__init__.py -> build/lib/pyls_test\n",
            "copying pyls_test/_version.py -> build/lib/pyls_test\n",
            "copying pyls_test/io.py -> build/lib/pyls_test\n",
            "copying pyls_test/structures.py -> build/lib/pyls_test\n",
            "copying pyls_test/utils.py -> build/lib/pyls_test\n",
            "copying pyls_test/base.py -> build/lib/pyls_test\n",
            "copying pyls_test/compute.py -> build/lib/pyls_test\n",
            "creating build/lib/pyls_test/examples\n",
            "copying pyls_test/examples/__init__.py -> build/lib/pyls_test/examples\n",
            "copying pyls_test/examples/datasets.py -> build/lib/pyls_test/examples\n",
            "creating build/lib/pyls_test/matlab\n",
            "copying pyls_test/matlab/__init__.py -> build/lib/pyls_test/matlab\n",
            "copying pyls_test/matlab/io.py -> build/lib/pyls_test/matlab\n",
            "creating build/lib/pyls_test/tests\n",
            "copying pyls_test/tests/__init__.py -> build/lib/pyls_test/tests\n",
            "copying pyls_test/tests/conftest.py -> build/lib/pyls_test/tests\n",
            "copying pyls_test/tests/matlab.py -> build/lib/pyls_test/tests\n",
            "copying pyls_test/tests/test_base.py -> build/lib/pyls_test/tests\n",
            "copying pyls_test/tests/test_compute.py -> build/lib/pyls_test/tests\n",
            "copying pyls_test/tests/test_examples.py -> build/lib/pyls_test/tests\n",
            "copying pyls_test/tests/test_io.py -> build/lib/pyls_test/tests\n",
            "copying pyls_test/tests/test_matlab.py -> build/lib/pyls_test/tests\n",
            "copying pyls_test/tests/test_structures.py -> build/lib/pyls_test/tests\n",
            "copying pyls_test/tests/test_utils.py -> build/lib/pyls_test/tests\n",
            "creating build/lib/pyls_test/types\n",
            "copying pyls_test/types/__init__.py -> build/lib/pyls_test/types\n",
            "copying pyls_test/types/behavioral.py -> build/lib/pyls_test/types\n",
            "copying pyls_test/types/regression.py -> build/lib/pyls_test/types\n",
            "copying pyls_test/types/meancentered.py -> build/lib/pyls_test/types\n",
            "creating build/lib/pyls_test/tests/types\n",
            "copying pyls_test/tests/types/__init__.py -> build/lib/pyls_test/tests/types\n",
            "copying pyls_test/tests/types/test_regression.py -> build/lib/pyls_test/tests/types\n",
            "copying pyls_test/tests/types/test_svd.py -> build/lib/pyls_test/tests/types\n",
            "UPDATING build/lib/pyls/_version.py\n",
            "set build/lib/pyls/_version.py to '0+untagged.283.gd8a19d5.dirty'\n",
            "creating build/bdist.linux-x86_64/egg\n",
            "creating build/bdist.linux-x86_64/egg/pyls\n",
            "copying build/lib/pyls/__init__.py -> build/bdist.linux-x86_64/egg/pyls\n",
            "copying build/lib/pyls/base.py -> build/bdist.linux-x86_64/egg/pyls\n",
            "copying build/lib/pyls/structures.py -> build/bdist.linux-x86_64/egg/pyls\n",
            "copying build/lib/pyls/io.py -> build/bdist.linux-x86_64/egg/pyls\n",
            "copying build/lib/pyls/utils.py -> build/bdist.linux-x86_64/egg/pyls\n",
            "copying build/lib/pyls/compute.py -> build/bdist.linux-x86_64/egg/pyls\n",
            "creating build/bdist.linux-x86_64/egg/pyls/examples\n",
            "copying build/lib/pyls/examples/datasets.py -> build/bdist.linux-x86_64/egg/pyls/examples\n",
            "copying build/lib/pyls/examples/__init__.py -> build/bdist.linux-x86_64/egg/pyls/examples\n",
            "copying build/lib/pyls/examples/datasets.json -> build/bdist.linux-x86_64/egg/pyls/examples\n",
            "creating build/bdist.linux-x86_64/egg/pyls/matlab\n",
            "copying build/lib/pyls/matlab/__init__.py -> build/bdist.linux-x86_64/egg/pyls/matlab\n",
            "copying build/lib/pyls/matlab/io.py -> build/bdist.linux-x86_64/egg/pyls/matlab\n",
            "creating build/bdist.linux-x86_64/egg/pyls/tests\n",
            "copying build/lib/pyls/tests/test_structures.py -> build/bdist.linux-x86_64/egg/pyls/tests\n",
            "copying build/lib/pyls/tests/test_io.py -> build/bdist.linux-x86_64/egg/pyls/tests\n",
            "copying build/lib/pyls/tests/test_examples.py -> build/bdist.linux-x86_64/egg/pyls/tests\n",
            "copying build/lib/pyls/tests/conftest.py -> build/bdist.linux-x86_64/egg/pyls/tests\n",
            "copying build/lib/pyls/tests/test_utils.py -> build/bdist.linux-x86_64/egg/pyls/tests\n",
            "copying build/lib/pyls/tests/test_compute.py -> build/bdist.linux-x86_64/egg/pyls/tests\n",
            "copying build/lib/pyls/tests/test_matlab.py -> build/bdist.linux-x86_64/egg/pyls/tests\n",
            "copying build/lib/pyls/tests/matlab.py -> build/bdist.linux-x86_64/egg/pyls/tests\n",
            "copying build/lib/pyls/tests/__init__.py -> build/bdist.linux-x86_64/egg/pyls/tests\n",
            "copying build/lib/pyls/tests/test_base.py -> build/bdist.linux-x86_64/egg/pyls/tests\n",
            "creating build/bdist.linux-x86_64/egg/pyls/tests/types\n",
            "copying build/lib/pyls/tests/types/test_regression.py -> build/bdist.linux-x86_64/egg/pyls/tests/types\n",
            "copying build/lib/pyls/tests/types/__init__.py -> build/bdist.linux-x86_64/egg/pyls/tests/types\n",
            "copying build/lib/pyls/tests/types/test_svd.py -> build/bdist.linux-x86_64/egg/pyls/tests/types\n",
            "creating build/bdist.linux-x86_64/egg/pyls/tests/data\n",
            "copying build/lib/pyls/tests/data/resultonly.mat -> build/bdist.linux-x86_64/egg/pyls/tests/data\n",
            "copying build/lib/pyls/tests/data/bpls_onegroup_onecond_nosplit.mat -> build/bdist.linux-x86_64/egg/pyls/tests/data\n",
            "copying build/lib/pyls/tests/data/empty.mat -> build/bdist.linux-x86_64/egg/pyls/tests/data\n",
            "copying build/lib/pyls/tests/data/mpls_multigroup_onecond_split.mat -> build/bdist.linux-x86_64/egg/pyls/tests/data\n",
            "copying build/lib/pyls/tests/data/bpls_onegroup_onecond_split.mat -> build/bdist.linux-x86_64/egg/pyls/tests/data\n",
            "copying build/lib/pyls/tests/data/mpls_multigroup_onecond_nosplit.mat -> build/bdist.linux-x86_64/egg/pyls/tests/data\n",
            "creating build/bdist.linux-x86_64/egg/pyls/types\n",
            "copying build/lib/pyls/types/meancentered.py -> build/bdist.linux-x86_64/egg/pyls/types\n",
            "copying build/lib/pyls/types/behavioral.py -> build/bdist.linux-x86_64/egg/pyls/types\n",
            "copying build/lib/pyls/types/__init__.py -> build/bdist.linux-x86_64/egg/pyls/types\n",
            "copying build/lib/pyls/types/regression.py -> build/bdist.linux-x86_64/egg/pyls/types\n",
            "creating build/bdist.linux-x86_64/egg/pyls/plotting\n",
            "copying build/lib/pyls/plotting/meancentered.py -> build/bdist.linux-x86_64/egg/pyls/plotting\n",
            "copying build/lib/pyls/_version.py -> build/bdist.linux-x86_64/egg/pyls\n",
            "creating build/bdist.linux-x86_64/egg/pyls_test\n",
            "copying build/lib/pyls_test/__init__.py -> build/bdist.linux-x86_64/egg/pyls_test\n",
            "copying build/lib/pyls_test/_version.py -> build/bdist.linux-x86_64/egg/pyls_test\n",
            "copying build/lib/pyls_test/io.py -> build/bdist.linux-x86_64/egg/pyls_test\n",
            "copying build/lib/pyls_test/structures.py -> build/bdist.linux-x86_64/egg/pyls_test\n",
            "copying build/lib/pyls_test/utils.py -> build/bdist.linux-x86_64/egg/pyls_test\n",
            "copying build/lib/pyls_test/base.py -> build/bdist.linux-x86_64/egg/pyls_test\n",
            "copying build/lib/pyls_test/compute.py -> build/bdist.linux-x86_64/egg/pyls_test\n",
            "creating build/bdist.linux-x86_64/egg/pyls_test/examples\n",
            "copying build/lib/pyls_test/examples/__init__.py -> build/bdist.linux-x86_64/egg/pyls_test/examples\n",
            "copying build/lib/pyls_test/examples/datasets.py -> build/bdist.linux-x86_64/egg/pyls_test/examples\n",
            "creating build/bdist.linux-x86_64/egg/pyls_test/matlab\n",
            "copying build/lib/pyls_test/matlab/__init__.py -> build/bdist.linux-x86_64/egg/pyls_test/matlab\n",
            "copying build/lib/pyls_test/matlab/io.py -> build/bdist.linux-x86_64/egg/pyls_test/matlab\n",
            "creating build/bdist.linux-x86_64/egg/pyls_test/tests\n",
            "copying build/lib/pyls_test/tests/__init__.py -> build/bdist.linux-x86_64/egg/pyls_test/tests\n",
            "copying build/lib/pyls_test/tests/conftest.py -> build/bdist.linux-x86_64/egg/pyls_test/tests\n",
            "copying build/lib/pyls_test/tests/matlab.py -> build/bdist.linux-x86_64/egg/pyls_test/tests\n",
            "copying build/lib/pyls_test/tests/test_base.py -> build/bdist.linux-x86_64/egg/pyls_test/tests\n",
            "copying build/lib/pyls_test/tests/test_compute.py -> build/bdist.linux-x86_64/egg/pyls_test/tests\n",
            "copying build/lib/pyls_test/tests/test_examples.py -> build/bdist.linux-x86_64/egg/pyls_test/tests\n",
            "copying build/lib/pyls_test/tests/test_io.py -> build/bdist.linux-x86_64/egg/pyls_test/tests\n",
            "copying build/lib/pyls_test/tests/test_matlab.py -> build/bdist.linux-x86_64/egg/pyls_test/tests\n",
            "copying build/lib/pyls_test/tests/test_structures.py -> build/bdist.linux-x86_64/egg/pyls_test/tests\n",
            "copying build/lib/pyls_test/tests/test_utils.py -> build/bdist.linux-x86_64/egg/pyls_test/tests\n",
            "creating build/bdist.linux-x86_64/egg/pyls_test/tests/types\n",
            "copying build/lib/pyls_test/tests/types/__init__.py -> build/bdist.linux-x86_64/egg/pyls_test/tests/types\n",
            "copying build/lib/pyls_test/tests/types/test_regression.py -> build/bdist.linux-x86_64/egg/pyls_test/tests/types\n",
            "copying build/lib/pyls_test/tests/types/test_svd.py -> build/bdist.linux-x86_64/egg/pyls_test/tests/types\n",
            "creating build/bdist.linux-x86_64/egg/pyls_test/types\n",
            "copying build/lib/pyls_test/types/__init__.py -> build/bdist.linux-x86_64/egg/pyls_test/types\n",
            "copying build/lib/pyls_test/types/behavioral.py -> build/bdist.linux-x86_64/egg/pyls_test/types\n",
            "copying build/lib/pyls_test/types/regression.py -> build/bdist.linux-x86_64/egg/pyls_test/types\n",
            "copying build/lib/pyls_test/types/meancentered.py -> build/bdist.linux-x86_64/egg/pyls_test/types\n",
            "byte-compiling build/bdist.linux-x86_64/egg/pyls/__init__.py to __init__.cpython-36.pyc\n",
            "byte-compiling build/bdist.linux-x86_64/egg/pyls/base.py to base.cpython-36.pyc\n",
            "byte-compiling build/bdist.linux-x86_64/egg/pyls/structures.py to structures.cpython-36.pyc\n",
            "byte-compiling build/bdist.linux-x86_64/egg/pyls/io.py to io.cpython-36.pyc\n",
            "byte-compiling build/bdist.linux-x86_64/egg/pyls/utils.py to utils.cpython-36.pyc\n",
            "byte-compiling build/bdist.linux-x86_64/egg/pyls/compute.py to compute.cpython-36.pyc\n",
            "byte-compiling build/bdist.linux-x86_64/egg/pyls/examples/datasets.py to datasets.cpython-36.pyc\n",
            "byte-compiling build/bdist.linux-x86_64/egg/pyls/examples/__init__.py to __init__.cpython-36.pyc\n",
            "byte-compiling build/bdist.linux-x86_64/egg/pyls/matlab/__init__.py to __init__.cpython-36.pyc\n",
            "byte-compiling build/bdist.linux-x86_64/egg/pyls/matlab/io.py to io.cpython-36.pyc\n",
            "byte-compiling build/bdist.linux-x86_64/egg/pyls/tests/test_structures.py to test_structures.cpython-36.pyc\n",
            "byte-compiling build/bdist.linux-x86_64/egg/pyls/tests/test_io.py to test_io.cpython-36.pyc\n",
            "byte-compiling build/bdist.linux-x86_64/egg/pyls/tests/test_examples.py to test_examples.cpython-36.pyc\n",
            "byte-compiling build/bdist.linux-x86_64/egg/pyls/tests/conftest.py to conftest.cpython-36.pyc\n",
            "byte-compiling build/bdist.linux-x86_64/egg/pyls/tests/test_utils.py to test_utils.cpython-36.pyc\n",
            "byte-compiling build/bdist.linux-x86_64/egg/pyls/tests/test_compute.py to test_compute.cpython-36.pyc\n",
            "byte-compiling build/bdist.linux-x86_64/egg/pyls/tests/test_matlab.py to test_matlab.cpython-36.pyc\n",
            "byte-compiling build/bdist.linux-x86_64/egg/pyls/tests/matlab.py to matlab.cpython-36.pyc\n",
            "byte-compiling build/bdist.linux-x86_64/egg/pyls/tests/__init__.py to __init__.cpython-36.pyc\n",
            "byte-compiling build/bdist.linux-x86_64/egg/pyls/tests/test_base.py to test_base.cpython-36.pyc\n",
            "byte-compiling build/bdist.linux-x86_64/egg/pyls/tests/types/test_regression.py to test_regression.cpython-36.pyc\n",
            "byte-compiling build/bdist.linux-x86_64/egg/pyls/tests/types/__init__.py to __init__.cpython-36.pyc\n",
            "byte-compiling build/bdist.linux-x86_64/egg/pyls/tests/types/test_svd.py to test_svd.cpython-36.pyc\n",
            "byte-compiling build/bdist.linux-x86_64/egg/pyls/types/meancentered.py to meancentered.cpython-36.pyc\n",
            "byte-compiling build/bdist.linux-x86_64/egg/pyls/types/behavioral.py to behavioral.cpython-36.pyc\n",
            "byte-compiling build/bdist.linux-x86_64/egg/pyls/types/__init__.py to __init__.cpython-36.pyc\n",
            "byte-compiling build/bdist.linux-x86_64/egg/pyls/types/regression.py to regression.cpython-36.pyc\n",
            "byte-compiling build/bdist.linux-x86_64/egg/pyls/plotting/meancentered.py to meancentered.cpython-36.pyc\n",
            "byte-compiling build/bdist.linux-x86_64/egg/pyls/_version.py to _version.cpython-36.pyc\n",
            "byte-compiling build/bdist.linux-x86_64/egg/pyls_test/__init__.py to __init__.cpython-36.pyc\n",
            "byte-compiling build/bdist.linux-x86_64/egg/pyls_test/_version.py to _version.cpython-36.pyc\n",
            "byte-compiling build/bdist.linux-x86_64/egg/pyls_test/io.py to io.cpython-36.pyc\n",
            "byte-compiling build/bdist.linux-x86_64/egg/pyls_test/structures.py to structures.cpython-36.pyc\n",
            "byte-compiling build/bdist.linux-x86_64/egg/pyls_test/utils.py to utils.cpython-36.pyc\n",
            "byte-compiling build/bdist.linux-x86_64/egg/pyls_test/base.py to base.cpython-36.pyc\n",
            "byte-compiling build/bdist.linux-x86_64/egg/pyls_test/compute.py to compute.cpython-36.pyc\n",
            "byte-compiling build/bdist.linux-x86_64/egg/pyls_test/examples/__init__.py to __init__.cpython-36.pyc\n",
            "byte-compiling build/bdist.linux-x86_64/egg/pyls_test/examples/datasets.py to datasets.cpython-36.pyc\n",
            "byte-compiling build/bdist.linux-x86_64/egg/pyls_test/matlab/__init__.py to __init__.cpython-36.pyc\n",
            "byte-compiling build/bdist.linux-x86_64/egg/pyls_test/matlab/io.py to io.cpython-36.pyc\n",
            "byte-compiling build/bdist.linux-x86_64/egg/pyls_test/tests/__init__.py to __init__.cpython-36.pyc\n",
            "byte-compiling build/bdist.linux-x86_64/egg/pyls_test/tests/conftest.py to conftest.cpython-36.pyc\n",
            "byte-compiling build/bdist.linux-x86_64/egg/pyls_test/tests/matlab.py to matlab.cpython-36.pyc\n",
            "byte-compiling build/bdist.linux-x86_64/egg/pyls_test/tests/test_base.py to test_base.cpython-36.pyc\n",
            "byte-compiling build/bdist.linux-x86_64/egg/pyls_test/tests/test_compute.py to test_compute.cpython-36.pyc\n",
            "byte-compiling build/bdist.linux-x86_64/egg/pyls_test/tests/test_examples.py to test_examples.cpython-36.pyc\n",
            "byte-compiling build/bdist.linux-x86_64/egg/pyls_test/tests/test_io.py to test_io.cpython-36.pyc\n",
            "byte-compiling build/bdist.linux-x86_64/egg/pyls_test/tests/test_matlab.py to test_matlab.cpython-36.pyc\n",
            "byte-compiling build/bdist.linux-x86_64/egg/pyls_test/tests/test_structures.py to test_structures.cpython-36.pyc\n",
            "byte-compiling build/bdist.linux-x86_64/egg/pyls_test/tests/test_utils.py to test_utils.cpython-36.pyc\n",
            "byte-compiling build/bdist.linux-x86_64/egg/pyls_test/tests/types/__init__.py to __init__.cpython-36.pyc\n",
            "byte-compiling build/bdist.linux-x86_64/egg/pyls_test/tests/types/test_regression.py to test_regression.cpython-36.pyc\n",
            "byte-compiling build/bdist.linux-x86_64/egg/pyls_test/tests/types/test_svd.py to test_svd.cpython-36.pyc\n",
            "byte-compiling build/bdist.linux-x86_64/egg/pyls_test/types/__init__.py to __init__.cpython-36.pyc\n",
            "byte-compiling build/bdist.linux-x86_64/egg/pyls_test/types/behavioral.py to behavioral.cpython-36.pyc\n",
            "byte-compiling build/bdist.linux-x86_64/egg/pyls_test/types/regression.py to regression.cpython-36.pyc\n",
            "byte-compiling build/bdist.linux-x86_64/egg/pyls_test/types/meancentered.py to meancentered.cpython-36.pyc\n",
            "creating build/bdist.linux-x86_64/egg/EGG-INFO\n",
            "copying pyls.egg-info/PKG-INFO -> build/bdist.linux-x86_64/egg/EGG-INFO\n",
            "copying pyls.egg-info/SOURCES.txt -> build/bdist.linux-x86_64/egg/EGG-INFO\n",
            "copying pyls.egg-info/dependency_links.txt -> build/bdist.linux-x86_64/egg/EGG-INFO\n",
            "copying pyls.egg-info/not-zip-safe -> build/bdist.linux-x86_64/egg/EGG-INFO\n",
            "copying pyls.egg-info/requires.txt -> build/bdist.linux-x86_64/egg/EGG-INFO\n",
            "copying pyls.egg-info/top_level.txt -> build/bdist.linux-x86_64/egg/EGG-INFO\n",
            "creating 'dist/pyls-0+untagged.283.gd8a19d5.dirty-py3.6.egg' and adding 'build/bdist.linux-x86_64/egg' to it\n",
            "removing 'build/bdist.linux-x86_64/egg' (and everything under it)\n",
            "Processing pyls-0+untagged.283.gd8a19d5.dirty-py3.6.egg\n",
            "creating /usr/local/lib/python3.6/dist-packages/pyls-0+untagged.283.gd8a19d5.dirty-py3.6.egg\n",
            "Extracting pyls-0+untagged.283.gd8a19d5.dirty-py3.6.egg to /usr/local/lib/python3.6/dist-packages\n",
            "Adding pyls 0+untagged.283.gd8a19d5.dirty to easy-install.pth file\n",
            "\n",
            "Installed /usr/local/lib/python3.6/dist-packages/pyls-0+untagged.283.gd8a19d5.dirty-py3.6.egg\n",
            "Processing dependencies for pyls==0+untagged.283.gd8a19d5.dirty\n",
            "Searching for tqdm==4.41.1\n",
            "Best match: tqdm 4.41.1\n",
            "Adding tqdm 4.41.1 to easy-install.pth file\n",
            "Installing tqdm script to /usr/local/bin\n",
            "\n",
            "Using /usr/local/lib/python3.6/dist-packages\n",
            "Searching for scipy==1.4.1\n",
            "Best match: scipy 1.4.1\n",
            "Adding scipy 1.4.1 to easy-install.pth file\n",
            "\n",
            "Using /usr/local/lib/python3.6/dist-packages\n",
            "Searching for scikit-learn==0.22.2.post1\n",
            "Best match: scikit-learn 0.22.2.post1\n",
            "Adding scikit-learn 0.22.2.post1 to easy-install.pth file\n",
            "\n",
            "Using /usr/local/lib/python3.6/dist-packages\n",
            "Searching for numpy==1.19.5\n",
            "Best match: numpy 1.19.5\n",
            "Adding numpy 1.19.5 to easy-install.pth file\n",
            "Installing f2py script to /usr/local/bin\n",
            "Installing f2py3 script to /usr/local/bin\n",
            "Installing f2py3.6 script to /usr/local/bin\n",
            "\n",
            "Using /usr/local/lib/python3.6/dist-packages\n",
            "Searching for h5py==2.10.0\n",
            "Best match: h5py 2.10.0\n",
            "Adding h5py 2.10.0 to easy-install.pth file\n",
            "\n",
            "Using /usr/local/lib/python3.6/dist-packages\n",
            "Searching for joblib==1.0.0\n",
            "Best match: joblib 1.0.0\n",
            "Adding joblib 1.0.0 to easy-install.pth file\n",
            "\n",
            "Using /usr/local/lib/python3.6/dist-packages\n",
            "Searching for six==1.15.0\n",
            "Best match: six 1.15.0\n",
            "Adding six 1.15.0 to easy-install.pth file\n",
            "\n",
            "Using /usr/local/lib/python3.6/dist-packages\n",
            "Finished processing dependencies for pyls==0+untagged.283.gd8a19d5.dirty\n"
          ],
          "name": "stdout"
        }
      ]
    },
    {
      "cell_type": "code",
      "metadata": {
        "colab": {
          "base_uri": "https://localhost:8080/"
        },
        "id": "xI64GYszQofE",
        "outputId": "c13c54b2-6807-409a-c7b8-820869fe6704"
      },
      "source": [
        "! git clone https://github.com/rmarkello/pyls.git"
      ],
      "execution_count": null,
      "outputs": [
        {
          "output_type": "stream",
          "text": [
            "Cloning into 'pyls'...\n",
            "remote: Enumerating objects: 7, done.\u001b[K\n",
            "remote: Counting objects: 100% (7/7), done.\u001b[K\n",
            "remote: Compressing objects: 100% (7/7), done.\u001b[K\n",
            "remote: Total 1649 (delta 1), reused 2 (delta 0), pack-reused 1642\u001b[K\n",
            "Receiving objects: 100% (1649/1649), 4.98 MiB | 7.07 MiB/s, done.\n",
            "Resolving deltas: 100% (1073/1073), done.\n"
          ],
          "name": "stdout"
        }
      ]
    },
    {
      "cell_type": "code",
      "metadata": {
        "colab": {
          "base_uri": "https://localhost:8080/"
        },
        "id": "AH0hhBtzImt8",
        "outputId": "be9532fa-0f13-499c-957f-049a754b5981"
      },
      "source": [
        "drive.mount('/content/drive')"
      ],
      "execution_count": null,
      "outputs": [
        {
          "output_type": "stream",
          "text": [
            "Drive already mounted at /content/drive; to attempt to forcibly remount, call drive.mount(\"/content/drive\", force_remount=True).\n"
          ],
          "name": "stdout"
        }
      ]
    },
    {
      "cell_type": "code",
      "metadata": {
        "colab": {
          "base_uri": "https://localhost:8080/"
        },
        "id": "mBZacgBOI7uN",
        "outputId": "093bdfb9-d6af-47d2-c3b4-6ab93fb7245e"
      },
      "source": [
        "! ls /content/drive/MyDrive/Work/Sciencing/Data/PPMI/"
      ],
      "execution_count": null,
      "outputs": [
        {
          "output_type": "stream",
          "text": [
            "pls_onsc_fc_scmod.png\t\t    PPMI_hist_modelweights_203.png\n",
            "PPMICON_NC_corr_modelparas+fit.png  PPMI_hist_modelweights_204.png\n",
            "PPMICON_NC_hist_FCs.png\t\t    PPMI_hist_modelweights_205.png\n",
            "PPMI_CON_NC_hist_modelparas.png     PPMI_hist_modelweights_206.png\n",
            "PPMI_corr_modelparas+fit.png\t    PPMI_hist_modelweights_207.png\n",
            "PPMI_hist_modelparas.png\t    PPMI_hist_modelweights_208.png\n",
            "PPMI_hist_modelweights_0.png\t    PPMI_hist_modelweights_209.png\n",
            "PPMI_hist_modelweights_100.png\t    PPMI_hist_modelweights_20.png\n",
            "PPMI_hist_modelweights_101.png\t    PPMI_hist_modelweights_210.png\n",
            "PPMI_hist_modelweights_102.png\t    PPMI_hist_modelweights_211.png\n",
            "PPMI_hist_modelweights_103.png\t    PPMI_hist_modelweights_212.png\n",
            "PPMI_hist_modelweights_104.png\t    PPMI_hist_modelweights_213.png\n",
            "PPMI_hist_modelweights_105.png\t    PPMI_hist_modelweights_214.png\n",
            "PPMI_hist_modelweights_106.png\t    PPMI_hist_modelweights_215.png\n",
            "PPMI_hist_modelweights_107.png\t    PPMI_hist_modelweights_216.png\n",
            "PPMI_hist_modelweights_108.png\t    PPMI_hist_modelweights_217.png\n",
            "PPMI_hist_modelweights_109.png\t    PPMI_hist_modelweights_218.png\n",
            "PPMI_hist_modelweights_10.png\t    PPMI_hist_modelweights_219.png\n",
            "PPMI_hist_modelweights_110.png\t    PPMI_hist_modelweights_21.png\n",
            "PPMI_hist_modelweights_111.png\t    PPMI_hist_modelweights_220.png\n",
            "PPMI_hist_modelweights_112.png\t    PPMI_hist_modelweights_221.png\n",
            "PPMI_hist_modelweights_113.png\t    PPMI_hist_modelweights_222.png\n",
            "PPMI_hist_modelweights_114.png\t    PPMI_hist_modelweights_223.png\n",
            "PPMI_hist_modelweights_115.png\t    PPMI_hist_modelweights_224.png\n",
            "PPMI_hist_modelweights_116.png\t    PPMI_hist_modelweights_225.png\n",
            "PPMI_hist_modelweights_117.png\t    PPMI_hist_modelweights_226.png\n",
            "PPMI_hist_modelweights_118.png\t    PPMI_hist_modelweights_227.png\n",
            "PPMI_hist_modelweights_119.png\t    PPMI_hist_modelweights_22.png\n",
            "PPMI_hist_modelweights_11.png\t    PPMI_hist_modelweights_23.png\n",
            "PPMI_hist_modelweights_120.png\t    PPMI_hist_modelweights_24.png\n",
            "PPMI_hist_modelweights_121.png\t    PPMI_hist_modelweights_25.png\n",
            "PPMI_hist_modelweights_122.png\t    PPMI_hist_modelweights_26.png\n",
            "PPMI_hist_modelweights_123.png\t    PPMI_hist_modelweights_27.png\n",
            "PPMI_hist_modelweights_124.png\t    PPMI_hist_modelweights_28.png\n",
            "PPMI_hist_modelweights_125.png\t    PPMI_hist_modelweights_29.png\n",
            "PPMI_hist_modelweights_126.png\t    PPMI_hist_modelweights_2.png\n",
            "PPMI_hist_modelweights_127.png\t    PPMI_hist_modelweights_30.png\n",
            "PPMI_hist_modelweights_128.png\t    PPMI_hist_modelweights_31.png\n",
            "PPMI_hist_modelweights_129.png\t    PPMI_hist_modelweights_32.png\n",
            "PPMI_hist_modelweights_12.png\t    PPMI_hist_modelweights_33.png\n",
            "PPMI_hist_modelweights_130.png\t    PPMI_hist_modelweights_34.png\n",
            "PPMI_hist_modelweights_131.png\t    PPMI_hist_modelweights_35.png\n",
            "PPMI_hist_modelweights_132.png\t    PPMI_hist_modelweights_36.png\n",
            "PPMI_hist_modelweights_133.png\t    PPMI_hist_modelweights_37.png\n",
            "PPMI_hist_modelweights_134.png\t    PPMI_hist_modelweights_38.png\n",
            "PPMI_hist_modelweights_135.png\t    PPMI_hist_modelweights_39.png\n",
            "PPMI_hist_modelweights_136.png\t    PPMI_hist_modelweights_3.png\n",
            "PPMI_hist_modelweights_137.png\t    PPMI_hist_modelweights_40.png\n",
            "PPMI_hist_modelweights_138.png\t    PPMI_hist_modelweights_41.png\n",
            "PPMI_hist_modelweights_139.png\t    PPMI_hist_modelweights_42.png\n",
            "PPMI_hist_modelweights_13.png\t    PPMI_hist_modelweights_43.png\n",
            "PPMI_hist_modelweights_140.png\t    PPMI_hist_modelweights_44.png\n",
            "PPMI_hist_modelweights_141.png\t    PPMI_hist_modelweights_45.png\n",
            "PPMI_hist_modelweights_142.png\t    PPMI_hist_modelweights_46.png\n",
            "PPMI_hist_modelweights_143.png\t    PPMI_hist_modelweights_47.png\n",
            "PPMI_hist_modelweights_144.png\t    PPMI_hist_modelweights_48.png\n",
            "PPMI_hist_modelweights_145.png\t    PPMI_hist_modelweights_49.png\n",
            "PPMI_hist_modelweights_146.png\t    PPMI_hist_modelweights_4.png\n",
            "PPMI_hist_modelweights_147.png\t    PPMI_hist_modelweights_50.png\n",
            "PPMI_hist_modelweights_148.png\t    PPMI_hist_modelweights_51.png\n",
            "PPMI_hist_modelweights_149.png\t    PPMI_hist_modelweights_52.png\n",
            "PPMI_hist_modelweights_14.png\t    PPMI_hist_modelweights_53.png\n",
            "PPMI_hist_modelweights_150.png\t    PPMI_hist_modelweights_54.png\n",
            "PPMI_hist_modelweights_151.png\t    PPMI_hist_modelweights_55.png\n",
            "PPMI_hist_modelweights_152.png\t    PPMI_hist_modelweights_56.png\n",
            "PPMI_hist_modelweights_153.png\t    PPMI_hist_modelweights_57.png\n",
            "PPMI_hist_modelweights_154.png\t    PPMI_hist_modelweights_58.png\n",
            "PPMI_hist_modelweights_155.png\t    PPMI_hist_modelweights_59.png\n",
            "PPMI_hist_modelweights_156.png\t    PPMI_hist_modelweights_5.png\n",
            "PPMI_hist_modelweights_157.png\t    PPMI_hist_modelweights_60.png\n",
            "PPMI_hist_modelweights_158.png\t    PPMI_hist_modelweights_61.png\n",
            "PPMI_hist_modelweights_159.png\t    PPMI_hist_modelweights_62.png\n",
            "PPMI_hist_modelweights_15.png\t    PPMI_hist_modelweights_63.png\n",
            "PPMI_hist_modelweights_160.png\t    PPMI_hist_modelweights_64.png\n",
            "PPMI_hist_modelweights_161.png\t    PPMI_hist_modelweights_65.png\n",
            "PPMI_hist_modelweights_162.png\t    PPMI_hist_modelweights_66.png\n",
            "PPMI_hist_modelweights_163.png\t    PPMI_hist_modelweights_67.png\n",
            "PPMI_hist_modelweights_164.png\t    PPMI_hist_modelweights_68.png\n",
            "PPMI_hist_modelweights_165.png\t    PPMI_hist_modelweights_69.png\n",
            "PPMI_hist_modelweights_166.png\t    PPMI_hist_modelweights_6.png\n",
            "PPMI_hist_modelweights_167.png\t    PPMI_hist_modelweights_70.png\n",
            "PPMI_hist_modelweights_168.png\t    PPMI_hist_modelweights_71.png\n",
            "PPMI_hist_modelweights_169.png\t    PPMI_hist_modelweights_72.png\n",
            "PPMI_hist_modelweights_16.png\t    PPMI_hist_modelweights_73.png\n",
            "PPMI_hist_modelweights_170.png\t    PPMI_hist_modelweights_74.png\n",
            "PPMI_hist_modelweights_171.png\t    PPMI_hist_modelweights_75.png\n",
            "PPMI_hist_modelweights_172.png\t    PPMI_hist_modelweights_76.png\n",
            "PPMI_hist_modelweights_173.png\t    PPMI_hist_modelweights_77.png\n",
            "PPMI_hist_modelweights_174.png\t    PPMI_hist_modelweights_78.png\n",
            "PPMI_hist_modelweights_175.png\t    PPMI_hist_modelweights_79.png\n",
            "PPMI_hist_modelweights_176.png\t    PPMI_hist_modelweights_7.png\n",
            "PPMI_hist_modelweights_177.png\t    PPMI_hist_modelweights_80.png\n",
            "PPMI_hist_modelweights_178.png\t    PPMI_hist_modelweights_81.png\n",
            "PPMI_hist_modelweights_179.png\t    PPMI_hist_modelweights_82.png\n",
            "PPMI_hist_modelweights_17.png\t    PPMI_hist_modelweights_83.png\n",
            "PPMI_hist_modelweights_180.png\t    PPMI_hist_modelweights_84.png\n",
            "PPMI_hist_modelweights_181.png\t    PPMI_hist_modelweights_85.png\n",
            "PPMI_hist_modelweights_182.png\t    PPMI_hist_modelweights_86.png\n",
            "PPMI_hist_modelweights_183.png\t    PPMI_hist_modelweights_87.png\n",
            "PPMI_hist_modelweights_184.png\t    PPMI_hist_modelweights_88.png\n",
            "PPMI_hist_modelweights_185.png\t    PPMI_hist_modelweights_89.png\n",
            "PPMI_hist_modelweights_186.png\t    PPMI_hist_modelweights_8.png\n",
            "PPMI_hist_modelweights_187.png\t    PPMI_hist_modelweights_90.png\n",
            "PPMI_hist_modelweights_188.png\t    PPMI_hist_modelweights_91.png\n",
            "PPMI_hist_modelweights_189.png\t    PPMI_hist_modelweights_92.png\n",
            "PPMI_hist_modelweights_18.png\t    PPMI_hist_modelweights_93.png\n",
            "PPMI_hist_modelweights_190.png\t    PPMI_hist_modelweights_94.png\n",
            "PPMI_hist_modelweights_191.png\t    PPMI_hist_modelweights_95.png\n",
            "PPMI_hist_modelweights_192.png\t    PPMI_hist_modelweights_96.png\n",
            "PPMI_hist_modelweights_193.png\t    PPMI_hist_modelweights_97.png\n",
            "PPMI_hist_modelweights_194.png\t    PPMI_hist_modelweights_98.png\n",
            "PPMI_hist_modelweights_195.png\t    PPMI_hist_modelweights_99.png\n",
            "PPMI_hist_modelweights_196.png\t    PPMI_hist_modelweights_9.png\n",
            "PPMI_hist_modelweights_197.png\t    PPMIPD_NC_corr_modelparas+fit.png\n",
            "PPMI_hist_modelweights_198.png\t    PPMIPD_NC_hist_FCs.png\n",
            "PPMI_hist_modelweights_199.png\t    PPMI_PD_NC_hist_modelparas.png\n",
            "PPMI_hist_modelweights_19.png\t    PPMI_sc_fc_simfc_3subjects.png\n",
            "PPMI_hist_modelweights_1.png\t    PPMI_WWD_model_fitting.npy\n",
            "PPMI_hist_modelweights_200.png\t    prediction_accuracy_fc.npy\n",
            "PPMI_hist_modelweights_201.png\t    prediction_accuracy_scmod.npy\n",
            "PPMI_hist_modelweights_202.png\t    prediction_accuracy_sc.npy\n"
          ],
          "name": "stdout"
        }
      ]
    },
    {
      "cell_type": "code",
      "metadata": {
        "id": "Uj8doiVSJmGw"
      },
      "source": [
        "base_dir = '/content/drive/MyDrive/Work/Sciencing/Data/PPMI/'\n",
        "ppmi_file = base_dir+'PPMI_WWD_model_fitting.npy'\n",
        "\n",
        "\n",
        "\n"
      ],
      "execution_count": 5,
      "outputs": []
    },
    {
      "cell_type": "code",
      "metadata": {
        "id": "Y5ft6qV8Kxi1"
      },
      "source": [
        "ppmi_data = np.load(ppmi_file, allow_pickle=True)\n"
      ],
      "execution_count": 6,
      "outputs": []
    },
    {
      "cell_type": "code",
      "metadata": {
        "id": "3fGtskeTK5CR"
      },
      "source": [
        "ppmi = ppmi_data.item()\n",
        "ppmi_CON_NC_fc = ppmi['CON_NC']['fc']\n",
        "ppmi_CON_NC_sc = ppmi['CON_NC']['sc']\n",
        "ppmi_CON_NC_fc_sim = ppmi['CON_NC']['fc_sim']\n",
        "ppmi_CON_NC_sc_mod = ppmi['CON_NC']['sc_mod']\n",
        "ppmi_CON_NC_para = ppmi['CON_NC']['para']\n",
        "\n",
        "ppmi_PD_NC_fc = ppmi['PD_NC']['fc']\n",
        "ppmi_PD_NC_sc = ppmi['PD_NC']['sc']\n",
        "ppmi_PD_NC_fc_sim = ppmi['PD_NC']['fc_sim']\n",
        "ppmi_PD_NC_sc_mod = ppmi['PD_NC']['sc_mod']\n",
        "ppmi_PD_NC_para = ppmi['PD_NC']['para']"
      ],
      "execution_count": 7,
      "outputs": []
    },
    {
      "cell_type": "code",
      "metadata": {
        "id": "qlQ0d-4-NA4b"
      },
      "source": [
        "groups =['CON_NC', 'PD_NC','PRO_NC']#['PD_D', 'CON_NC', 'CON_MCI', 'PRO_MCI', 'PRO_NC', 'PD_NC']"
      ],
      "execution_count": 8,
      "outputs": []
    },
    {
      "cell_type": "code",
      "metadata": {
        "id": "DEHINWzjRiC8"
      },
      "source": [
        "import os, sys\n",
        "sys.path.append(os.getcwd())"
      ],
      "execution_count": null,
      "outputs": []
    },
    {
      "cell_type": "code",
      "metadata": {
        "id": "teRkToDKikOj"
      },
      "source": [
        "from pyls_test.plotting.meancentered import plot_contrast\n",
        "from pyls_test.types.meancentered import meancentered_pls"
      ],
      "execution_count": null,
      "outputs": []
    },
    {
      "cell_type": "code",
      "metadata": {
        "id": "W5T4DQuy1NAi"
      },
      "source": [
        "def pre_PLS_getMasks(var_ind):\n",
        "  pls_variables=['sc', 'fc', 'sc_mod']\n",
        "  mask = np.tril_indices(96,-1)\n",
        "  mask2=np.array([True]*4560)\n",
        "  weights = np.zeros((4560))\n",
        "  con_network = np.zeros((96,96))\n",
        "  for k in range(3):\n",
        "    data = []\n",
        "    group_infos = []\n",
        "    num_subs_train = [23,65, 15]\n",
        "\n",
        "    \n",
        "    subs_no_train={}\n",
        "    j = 0\n",
        "    for  grp in groups:\n",
        "      subs_no_train[grp]=[]\n",
        "      group_infos.append(len(ppmi[grp]['sc']))\n",
        "      subs_order=np.random.choice(group_infos[j], num_subs_train[j], replace=False)\n",
        "      i=0\n",
        "      for sub in ppmi[grp]['sc']:\n",
        "        if i in subs_order:\n",
        "          data_sub = []\n",
        "          \n",
        "          sc_mod = ppmi[grp][pls_variables[var_ind]][sub]\n",
        "          data_sub.extend(list(sc_mod.copy()[mask])) #[mask2]\n",
        "          data.append(data_sub)\n",
        "          i+=1\n",
        "        else:\n",
        "          subs_no_train[grp].append(sub)\n",
        "          i+=1\n",
        "      j += 1\n",
        "\n",
        "    data = np.array(data)\n",
        "    mpls_scmod_pre = meancentered_pls(data , mean_centering=1, n_perm=5000, n_boot=5000, groups= num_subs_train, n_cond=1)\n",
        "\n",
        "\n",
        "    mask2 = mask2*(np.abs(mpls_scmod_pre.bootres.x_weights_normed[:,0]) > 2.38)\n",
        "\n",
        "  weights[mask2] =  (mpls_scmod_pre.bootres.x_weights_normed[:,0][mask2])\n",
        "  con_network[mask] = weights\n",
        "  #print(mpls_scmod_pre.bootres.x_weights_normed[:,0][mask2])\n",
        "  return mask2, con_network\n"
      ],
      "execution_count": null,
      "outputs": []
    },
    {
      "cell_type": "code",
      "metadata": {
        "id": "ir_VNAwd2Zil"
      },
      "source": [
        "def train_test_getAccuracy(var_ind, mask2):\n",
        "  mask = np.tril_indices(96,-1)\n",
        "  pls_variables=['sc', 'fc', 'sc_mod']\n",
        "  accuracy_pred={}\n",
        "  accuracy_pred['CON_NC']=[]\n",
        "  accuracy_pred['PD_NC']=[]\n",
        "  accuracy_pred['PRO_NC']=[]\n",
        "  accuracy_recall={}\n",
        "  accuracy_recall['CON_NC']=[]\n",
        "  accuracy_recall['PD_NC']=[]\n",
        "  accuracy_recall['PRO_NC']=[]\n",
        "\n",
        "\n",
        "\n",
        "  for k in range(10):\n",
        "    data = []\n",
        "    group_infos = []\n",
        "\n",
        "    num_subs_train = [13,35, 10]\n",
        "    subs_no_train={}\n",
        "    j = 0\n",
        "    for  grp in groups:\n",
        "      subs_no_train[grp]=[]\n",
        "      group_infos.append(len(ppmi[grp]['sc']))\n",
        "      subs_order=np.random.choice(group_infos[j], num_subs_train[j], replace=False)\n",
        "      i=0\n",
        "      for sub in ppmi[grp]['sc']:\n",
        "        if i in subs_order:\n",
        "          data_sub = []\n",
        "          \"\"\"para = ppmi[grp]['para'][sub][-10:,:4].mean(0)\n",
        "          data_sub.extend(list(para.copy()))\"\"\"\n",
        "          sc_mod = ppmi[grp][pls_variables[var_ind]][sub]\n",
        "          data_sub.extend(list(sc_mod.copy()[mask][mask2])) #[mask2]\n",
        "          data.append(data_sub)\n",
        "          i+=1\n",
        "        else:\n",
        "          subs_no_train[grp].append(sub)\n",
        "          i+=1\n",
        "      j += 1\n",
        "\n",
        "    data = np.array(data)\n",
        "    mpls_scmod = meancentered_pls(data , mean_centering=1, n_perm=1000, n_boot=100, groups= num_subs_train, n_cond=1)\n",
        "\n",
        "    centers = np.zeros((3,3))\n",
        "\n",
        "    centers[0,:] = mpls_scmod.x_scores[:num_subs_train[0]].mean(0)\n",
        "    centers[1, :] = mpls_scmod.x_scores[num_subs_train[0]:num_subs_train[0]+num_subs_train[1]].mean(0)\n",
        "    centers[2,:] = mpls_scmod.x_scores[num_subs_train[0]+num_subs_train[1]:sum(num_subs_train)].mean(0)\n",
        "    \n",
        "    pred_num={}\n",
        "    pred_num['PD_NC']=0\n",
        "    pred_num['CON_NC']=0\n",
        "    pred_num['PRO_NC']=0\n",
        "    for i, grp in enumerate(groups):\n",
        "      num_correct = 0\n",
        "      \n",
        "      for sub in subs_no_train[grp]:\n",
        "        x_scores = (ppmi[grp][pls_variables[var_ind]][sub][mask][mask2]).dot(mpls_scmod.x_weights)\n",
        "        pred_num[groups[np.argmin(((centers - x_scores)**2).sum(1))]] += 1\n",
        "        if i == np.argmin(((centers - x_scores)**2).sum(1)):\n",
        "          num_correct += 1\n",
        "          \n",
        "      accuracy_pred[grp].append(num_correct/(group_infos[i] - num_subs_train[i]))\n",
        "    for i, grp in enumerate(groups):\n",
        "      accuracy_recall[grp].append(accuracy_pred[grp][-1]*(group_infos[i] - num_subs_train[i])/pred_num[grp])\n",
        "\n",
        "    return accuracy_pred, accuracy_recall\n"
      ],
      "execution_count": null,
      "outputs": []
    },
    {
      "cell_type": "code",
      "metadata": {
        "colab": {
          "base_uri": "https://localhost:8080/"
        },
        "id": "QhyxXn6oYM4A",
        "outputId": "5ad92252-947b-4353-e72c-1eb580514108"
      },
      "source": [
        "# : 0 sc 1 fc 2 sc_mod\n",
        "mask2 = pre_PLS_getMasks(0)\n",
        "\n",
        "accuracy_pred, accuracy_recall = train_test_getAccuracy(0, mask2)"
      ],
      "execution_count": null,
      "outputs": [
        {
          "output_type": "stream",
          "text": [
            ""
          ],
          "name": "stderr"
        }
      ]
    },
    {
      "cell_type": "code",
      "metadata": {
        "colab": {
          "base_uri": "https://localhost:8080/"
        },
        "id": "ybVEGhBUf345",
        "outputId": "998c1b40-0bc8-472c-8238-29b11f981a30"
      },
      "source": [
        "centers = np.zeros((96,3))\n",
        "for i in range(3):\n",
        "  mask2, con_network = pre_PLS_getMasks(i)\n",
        "  U, s, V =np.linalg.svd(con_network + con_network.T)\n",
        "  centers[:,i] = U[:,0]\n",
        "print(s)\n",
        "centers"
      ],
      "execution_count": null,
      "outputs": [
        {
          "output_type": "stream",
          "text": [
            "                                                          "
          ],
          "name": "stderr"
        },
        {
          "output_type": "stream",
          "text": [
            "[1.71031512e+01 1.53021940e+01 1.34079558e+01 1.24897433e+01\n",
            " 1.17843995e+01 1.13847564e+01 1.03165967e+01 1.02005122e+01\n",
            " 1.01128557e+01 9.58948102e+00 9.07997203e+00 8.68865602e+00\n",
            " 8.56075711e+00 7.99703679e+00 7.87965845e+00 7.75733880e+00\n",
            " 7.40508677e+00 7.24486532e+00 7.13721293e+00 7.04163799e+00\n",
            " 7.04082752e+00 6.79565065e+00 6.68691143e+00 6.43392272e+00\n",
            " 6.22012274e+00 6.19702579e+00 6.04131362e+00 5.92479988e+00\n",
            " 5.74085426e+00 5.63107564e+00 5.44932032e+00 5.37875883e+00\n",
            " 5.25753220e+00 5.16465528e+00 5.12724923e+00 4.97561243e+00\n",
            " 4.81794457e+00 4.79372381e+00 4.62755222e+00 4.53369687e+00\n",
            " 4.36853165e+00 4.32202660e+00 4.22166011e+00 4.08020346e+00\n",
            " 4.03264546e+00 3.92894094e+00 3.66585246e+00 3.40685451e+00\n",
            " 3.38896028e+00 3.26919933e+00 3.17712835e+00 2.95678080e+00\n",
            " 2.90151785e+00 2.85146879e+00 2.73229207e+00 2.63796022e+00\n",
            " 2.61926020e+00 2.53940038e+00 2.51149613e+00 2.40845181e+00\n",
            " 2.21961017e+00 2.13019677e+00 2.10540266e+00 1.97598712e+00\n",
            " 1.78263175e+00 1.77844303e+00 1.70194197e+00 1.61154243e+00\n",
            " 1.58239598e+00 1.37639946e+00 1.33576239e+00 1.32312069e+00\n",
            " 1.23835494e+00 9.71262912e-01 9.62956005e-01 8.20308246e-01\n",
            " 6.97857865e-01 6.37985385e-01 5.77961543e-01 4.86869446e-01\n",
            " 3.51280945e-01 3.18092589e-01 2.42589472e-01 1.89404439e-01\n",
            " 1.61574011e-01 5.98063984e-02 7.76149876e-04 1.01079353e-15\n",
            " 1.01079353e-15 1.01079353e-15 1.01079353e-15 1.01079353e-15\n",
            " 1.01079353e-15 1.01079353e-15 1.01079353e-15 1.01079353e-15]\n"
          ],
          "name": "stdout"
        },
        {
          "output_type": "stream",
          "text": [
            "\r"
          ],
          "name": "stderr"
        },
        {
          "output_type": "execute_result",
          "data": {
            "text/plain": [
              "array([[ 9.20956492e-03, -1.12798624e-01, -1.12463576e-01],\n",
              "       [ 1.24486132e-01, -1.03249662e-01, -2.77966849e-01],\n",
              "       [ 4.86081683e-02, -2.52275041e-02, -3.47832898e-02],\n",
              "       [ 5.01407137e-03, -1.04103817e-01, -1.75662250e-01],\n",
              "       [ 5.10760648e-02, -2.29854442e-01, -1.59406879e-01],\n",
              "       [ 5.45003166e-02, -2.02334606e-02, -3.80714875e-02],\n",
              "       [ 7.76572241e-02, -1.21211773e-01, -2.71449634e-02],\n",
              "       [ 2.18132057e-01, -7.28325383e-02, -9.55704276e-02],\n",
              "       [ 3.01860049e-02, -1.08041689e-01, -2.17918954e-02],\n",
              "       [ 2.42689369e-02, -1.44431855e-01, -1.46512723e-02],\n",
              "       [ 7.62318829e-02, -6.91758362e-02, -2.08369910e-01],\n",
              "       [ 2.35880024e-01, -1.19190556e-01, -3.23002945e-02],\n",
              "       [-1.03397577e-25, -8.37407260e-02, -6.27677250e-02],\n",
              "       [ 6.57602237e-02, -1.96752532e-01, -4.31451982e-01],\n",
              "       [ 7.69365390e-02, -1.20370622e-35,  3.05779657e-03],\n",
              "       [ 5.93782882e-02, -8.16638204e-02, -1.60124841e-01],\n",
              "       [ 2.75781280e-02, -2.34974921e-02, -1.61411678e-03],\n",
              "       [ 3.02103452e-01, -1.22522763e-01, -2.28983575e-03],\n",
              "       [ 1.04737989e-02, -8.66293148e-02, -1.83116197e-01],\n",
              "       [ 1.24511539e-01, -8.19386378e-02, -2.01056327e-02],\n",
              "       [ 4.20088006e-02, -1.62326548e-01, -3.19177754e-04],\n",
              "       [ 1.23478025e-01, -1.17571049e-01, -1.80996892e-01],\n",
              "       [ 0.00000000e+00, -5.55874488e-02, -1.30348693e-01],\n",
              "       [ 6.11271673e-02, -6.39312397e-03, -1.81906912e-02],\n",
              "       [ 8.75839409e-02, -2.63762181e-01, -2.25980066e-01],\n",
              "       [ 3.03332194e-02, -3.44967748e-02, -5.05450876e-02],\n",
              "       [ 7.09050030e-02, -9.76117789e-02, -8.20684157e-04],\n",
              "       [ 5.78875237e-02, -1.35695364e-01, -1.34137355e-02],\n",
              "       [ 0.00000000e+00, -9.76927371e-02, -1.94050108e-02],\n",
              "       [ 4.98841172e-02, -1.39442479e-01, -1.01707032e-01],\n",
              "       [ 1.41142532e-02, -1.95142997e-01, -7.32126836e-02],\n",
              "       [ 1.24083172e-01, -6.40464165e-02, -5.18949923e-02],\n",
              "       [ 5.07732133e-02, -7.26594241e-02, -1.72194394e-01],\n",
              "       [ 7.27179399e-02, -4.43987193e-02, -2.04471466e-02],\n",
              "       [ 1.63052258e-01, -1.46984161e-02, -2.34129049e-02],\n",
              "       [ 4.19706660e-02, -6.92526071e-02, -2.38234568e-01],\n",
              "       [ 8.34605410e-02, -6.58362200e-02, -1.21769679e-01],\n",
              "       [ 1.62810608e-03, -1.31834529e-01,  1.67684577e-02],\n",
              "       [ 1.45810885e-01, -2.49078159e-02, -5.15262805e-02],\n",
              "       [ 1.05945735e-02, -4.13298728e-02, -3.49687007e-02],\n",
              "       [ 5.23851192e-02, -6.25281340e-02, -1.93775537e-02],\n",
              "       [ 1.87074027e-01, -3.89671061e-02, -7.79235904e-02],\n",
              "       [ 1.81541995e-01, -8.61640627e-03, -3.56657851e-02],\n",
              "       [ 8.96348909e-02, -6.98182796e-02, -1.00951248e-01],\n",
              "       [ 1.78360658e-01, -9.24665886e-03, -3.29169608e-02],\n",
              "       [ 1.12220449e-01, -1.17568221e-01, -3.75824790e-03],\n",
              "       [ 1.47525896e-01, -5.64479241e-02, -2.23166088e-01],\n",
              "       [ 2.65621229e-02, -2.05199102e-01, -8.87724544e-02],\n",
              "       [ 2.81046912e-02, -9.86572229e-02, -7.94967862e-02],\n",
              "       [ 6.96953870e-02, -1.30336586e-01, -8.93052247e-02],\n",
              "       [ 4.15477894e-02, -1.19892073e-01, -6.91864324e-02],\n",
              "       [ 2.15594784e-01, -8.25619544e-02, -1.37758671e-01],\n",
              "       [ 6.70409049e-02, -1.15236399e-01, -8.30008680e-02],\n",
              "       [ 1.00602268e-02, -3.06676812e-02, -6.00375805e-02],\n",
              "       [ 7.18922326e-02, -1.31997070e-01, -6.03109719e-02],\n",
              "       [ 1.12284802e-01, -2.36786995e-02, -4.68924805e-02],\n",
              "       [ 2.91681206e-02, -1.63005846e-01, -2.61561109e-02],\n",
              "       [ 9.52978357e-02, -6.98061264e-02, -6.28645996e-02],\n",
              "       [ 2.06557856e-02, -5.66703412e-02, -3.73870109e-02],\n",
              "       [ 2.11334713e-01, -8.89835641e-02, -8.97119897e-03],\n",
              "       [ 6.02335598e-02, -1.79132880e-01, -3.46268919e-02],\n",
              "       [ 7.42675559e-02, -1.24450748e-01, -1.25307313e-01],\n",
              "       [ 5.00123263e-02, -5.75951575e-03, -4.94910496e-03],\n",
              "       [ 2.66329426e-02, -6.47117108e-02, -3.34664889e-02],\n",
              "       [ 6.14996535e-02, -3.66281546e-02, -1.04265978e-01],\n",
              "       [ 2.44433987e-01, -9.76281281e-02, -6.55406624e-02],\n",
              "       [ 7.93882389e-02, -7.58012676e-02, -1.36883675e-01],\n",
              "       [ 9.06787209e-02, -1.05383728e-01, -2.01188253e-03],\n",
              "       [ 4.57493889e-02, -1.39349844e-01, -1.40008955e-01],\n",
              "       [ 1.05160676e-01, -1.20940065e-01, -6.88171839e-02],\n",
              "       [ 1.01051296e-01, -6.68528402e-02, -1.04030615e-01],\n",
              "       [ 1.03716408e-01, -6.01173091e-02, -1.11766184e-02],\n",
              "       [ 1.84135486e-02, -1.51655452e-01, -7.77757529e-03],\n",
              "       [ 4.92847226e-02, -1.31527854e-02, -1.62069660e-02],\n",
              "       [ 7.55659948e-02, -6.06206664e-02, -4.05772176e-03],\n",
              "       [ 9.00787704e-02, -1.87503798e-01, -1.42233502e-02],\n",
              "       [ 5.48546569e-03, -3.69138383e-02,  0.00000000e+00],\n",
              "       [ 1.41311895e-01, -1.57572110e-01, -3.78318452e-02],\n",
              "       [ 0.00000000e+00, -1.11099032e-01,  1.96700372e-02],\n",
              "       [ 1.35453306e-01, -9.92566179e-02, -8.69476955e-02],\n",
              "       [ 4.51114685e-02, -4.46775107e-02, -1.54564501e-02],\n",
              "       [ 4.17889995e-02, -2.02715281e-02,  0.00000000e+00],\n",
              "       [ 5.82766458e-02, -1.53657739e-02,  0.00000000e+00],\n",
              "       [ 1.13712863e-01, -5.17956719e-02, -2.52480011e-02],\n",
              "       [ 1.09630922e-01, -6.35548885e-02, -3.90821743e-02],\n",
              "       [-8.91251237e-03, -1.60371478e-01,  0.00000000e+00],\n",
              "       [ 1.18481939e-01, -9.38113837e-02, -7.00322486e-03],\n",
              "       [ 8.92029873e-02, -6.45834374e-02,  0.00000000e+00],\n",
              "       [ 5.48043895e-02, -7.60523760e-02, -1.12126247e-02],\n",
              "       [ 8.56153239e-02, -3.12610323e-02,  1.35000856e-02],\n",
              "       [ 9.32326324e-02, -2.45586513e-02,  1.70252741e-02],\n",
              "       [ 9.17532846e-02, -4.14746030e-02, -2.97452204e-02],\n",
              "       [ 1.30698997e-01,  0.00000000e+00, -1.52648787e-02],\n",
              "       [ 1.38001636e-01, -1.11757566e-01, -2.30242638e-01],\n",
              "       [ 2.05827120e-01, -2.91667710e-02, -5.41473873e-02],\n",
              "       [ 4.07350406e-02, -1.18029043e-01, -1.51556790e-01]])"
            ]
          },
          "metadata": {
            "tags": []
          },
          "execution_count": 13
        }
      ]
    },
    {
      "cell_type": "code",
      "metadata": {
        "colab": {
          "base_uri": "https://localhost:8080/"
        },
        "id": "uPhZl1Fu2ZW7",
        "outputId": "bdadd055-8c57-4976-babf-04934cf00e64"
      },
      "source": [
        "s"
      ],
      "execution_count": null,
      "outputs": [
        {
          "output_type": "execute_result",
          "data": {
            "text/plain": [
              "array([1.71031512e+01, 1.53021940e+01, 1.34079558e+01, 1.24897433e+01,\n",
              "       1.17843995e+01, 1.13847564e+01, 1.03165967e+01, 1.02005122e+01,\n",
              "       1.01128557e+01, 9.58948102e+00, 9.07997203e+00, 8.68865602e+00,\n",
              "       8.56075711e+00, 7.99703679e+00, 7.87965845e+00, 7.75733880e+00,\n",
              "       7.40508677e+00, 7.24486532e+00, 7.13721293e+00, 7.04163799e+00,\n",
              "       7.04082752e+00, 6.79565065e+00, 6.68691143e+00, 6.43392272e+00,\n",
              "       6.22012274e+00, 6.19702579e+00, 6.04131362e+00, 5.92479988e+00,\n",
              "       5.74085426e+00, 5.63107564e+00, 5.44932032e+00, 5.37875883e+00,\n",
              "       5.25753220e+00, 5.16465528e+00, 5.12724923e+00, 4.97561243e+00,\n",
              "       4.81794457e+00, 4.79372381e+00, 4.62755222e+00, 4.53369687e+00,\n",
              "       4.36853165e+00, 4.32202660e+00, 4.22166011e+00, 4.08020346e+00,\n",
              "       4.03264546e+00, 3.92894094e+00, 3.66585246e+00, 3.40685451e+00,\n",
              "       3.38896028e+00, 3.26919933e+00, 3.17712835e+00, 2.95678080e+00,\n",
              "       2.90151785e+00, 2.85146879e+00, 2.73229207e+00, 2.63796022e+00,\n",
              "       2.61926020e+00, 2.53940038e+00, 2.51149613e+00, 2.40845181e+00,\n",
              "       2.21961017e+00, 2.13019677e+00, 2.10540266e+00, 1.97598712e+00,\n",
              "       1.78263175e+00, 1.77844303e+00, 1.70194197e+00, 1.61154243e+00,\n",
              "       1.58239598e+00, 1.37639946e+00, 1.33576239e+00, 1.32312069e+00,\n",
              "       1.23835494e+00, 9.71262912e-01, 9.62956005e-01, 8.20308246e-01,\n",
              "       6.97857865e-01, 6.37985385e-01, 5.77961543e-01, 4.86869446e-01,\n",
              "       3.51280945e-01, 3.18092589e-01, 2.42589472e-01, 1.89404439e-01,\n",
              "       1.61574011e-01, 5.98063984e-02, 7.76149876e-04, 1.01079353e-15,\n",
              "       1.01079353e-15, 1.01079353e-15, 1.01079353e-15, 1.01079353e-15,\n",
              "       1.01079353e-15, 1.01079353e-15, 1.01079353e-15, 1.01079353e-15])"
            ]
          },
          "metadata": {
            "tags": []
          },
          "execution_count": 14
        }
      ]
    },
    {
      "cell_type": "code",
      "metadata": {
        "id": "3fx0MwaH0e-K"
      },
      "source": [
        "np.savetxt(base_dir+\"eigenvector_sig_brainnetwork_SC_FC_SC_MOD.txt\", centers)"
      ],
      "execution_count": null,
      "outputs": []
    },
    {
      "cell_type": "code",
      "metadata": {
        "colab": {
          "base_uri": "https://localhost:8080/",
          "height": 282
        },
        "id": "Ry4MSEUUCV45",
        "outputId": "3c5bb906-a098-4892-d94a-5a25ccee5122"
      },
      "source": [
        "accuracy_pred_sc = accuracy_pred.copy()\n",
        "np.save(base_dir+'prediction_accuracy_sc.npy', accuracy_pred_sc)\n",
        "sns.histplot(data = pd.DataFrame(accuracy_pred_sc), alpha =0.4, bins =0.1*np.arange(10), stat='probability', kde=True) #sc precision"
      ],
      "execution_count": null,
      "outputs": [
        {
          "output_type": "execute_result",
          "data": {
            "text/plain": [
              "<matplotlib.axes._subplots.AxesSubplot at 0x7fadbb7b2588>"
            ]
          },
          "metadata": {
            "tags": []
          },
          "execution_count": 32
        },
        {
          "output_type": "display_data",
          "data": {
            "image/png": "[encoded data removed]",
            "text/plain": [
              "<Figure size 432x288 with 1 Axes>"
            ]
          },
          "metadata": {
            "tags": [],
            "needs_background": "light"
          }
        }
      ]
    },
    {
      "cell_type": "code",
      "metadata": {
        "colab": {
          "base_uri": "https://localhost:8080/",
          "height": 285
        },
        "id": "V8lykqiCaUoj",
        "outputId": "c2da5112-f7a5-45f9-adb6-9f16754a30e2"
      },
      "source": [
        "accuracy_recall_sc = accuracy_recall.copy()\n",
        "np.save(base_dir+'recall_accuracy_sc.npy', accuracy_recall_sc)\n",
        "sns.histplot(data = pd.DataFrame(accuracy_recall_sc), alpha =0.4, bins =0.1*np.arange(10), stat='probability', kde=True) #sc recall"
      ],
      "execution_count": null,
      "outputs": [
        {
          "output_type": "execute_result",
          "data": {
            "text/plain": [
              "<matplotlib.axes._subplots.AxesSubplot at 0x7fadbb0325c0>"
            ]
          },
          "metadata": {
            "tags": []
          },
          "execution_count": 33
        },
        {
          "output_type": "display_data",
          "data": {
            "image/png": "[encoded data removed]",
            "text/plain": [
              "<Figure size 432x288 with 1 Axes>"
            ]
          },
          "metadata": {
            "tags": [],
            "needs_background": "light"
          }
        }
      ]
    },
    {
      "cell_type": "code",
      "metadata": {
        "colab": {
          "base_uri": "https://localhost:8080/",
          "height": 282
        },
        "id": "iijAnOEBHT2l",
        "outputId": "227123b0-caed-4ab6-f971-9e9d8d638115"
      },
      "source": [
        "accuracy_pred_fc = accuracy_pred.copy()\n",
        "#np.save(base_dir+'prediction_accuracy_fc.npy', accuracy_pred_fc)\n",
        "sns.histplot(data = pd.DataFrame(accuracy_pred_fc), alpha =0.4, bins = 0.1*np.arange(10), stat='probability', kde= True) #fc precision"
      ],
      "execution_count": null,
      "outputs": [
        {
          "output_type": "execute_result",
          "data": {
            "text/plain": [
              "<matplotlib.axes._subplots.AxesSubplot at 0x7fecb8ff36a0>"
            ]
          },
          "metadata": {
            "tags": []
          },
          "execution_count": 13
        },
        {
          "output_type": "display_data",
          "data": {
            "image/png": "[encoded data removed]",
            "text/plain": [
              "<Figure size 432x288 with 1 Axes>"
            ]
          },
          "metadata": {
            "tags": [],
            "needs_background": "light"
          }
        }
      ]
    },
    {
      "cell_type": "code",
      "metadata": {
        "colab": {
          "base_uri": "https://localhost:8080/",
          "height": 282
        },
        "id": "BLN9gWxaeApN",
        "outputId": "6b7de478-267b-4e55-d60a-cab59a4a1093"
      },
      "source": [
        "accuracy_recall_fc = accuracy_recall.copy()\n",
        "#np.save(base_dir+'recall_accuracy_fc.npy', accuracy_recall_fc)\n",
        "sns.histplot(data = pd.DataFrame(accuracy_recall_fc), alpha =0.4, bins =0.1*np.arange(10), stat='probability', kde=True)  #fc recall"
      ],
      "execution_count": null,
      "outputs": [
        {
          "output_type": "execute_result",
          "data": {
            "text/plain": [
              "<matplotlib.axes._subplots.AxesSubplot at 0x7fecb8b308d0>"
            ]
          },
          "metadata": {
            "tags": []
          },
          "execution_count": 14
        },
        {
          "output_type": "display_data",
          "data": {
            "image/png": "[encoded data removed]",
            "text/plain": [
              "<Figure size 432x288 with 1 Axes>"
            ]
          },
          "metadata": {
            "tags": [],
            "needs_background": "light"
          }
        }
      ]
    },
    {
      "cell_type": "code",
      "metadata": {
        "colab": {
          "base_uri": "https://localhost:8080/",
          "height": 286
        },
        "id": "eoXaCQLvr8b2",
        "outputId": "21e1e625-f9db-4f89-8c9d-ced86ff8de81"
      },
      "source": [
        "#accuracy_pred_scmod = accuracy_pred.copy()\n",
        "#np.save(base_dir+'prediction_accuracy_scmod.npy', accuracy_pred_scmod)\n",
        "sns.histplot(data = pd.DataFrame(accuracy_pred_scmod), alpha =0.4, bins = 0.1*np.arange(10), stat='probability', kde=True) #presicion sc_mod"
      ],
      "execution_count": null,
      "outputs": [
        {
          "output_type": "execute_result",
          "data": {
            "text/plain": [
              "<matplotlib.axes._subplots.AxesSubplot at 0x7fadbceea518>"
            ]
          },
          "metadata": {
            "tags": []
          },
          "execution_count": 26
        },
        {
          "output_type": "display_data",
          "data": {
            "image/png": "[encoded data removed]",
            "text/plain": [
              "<Figure size 432x288 with 1 Axes>"
            ]
          },
          "metadata": {
            "tags": [],
            "needs_background": "light"
          }
        }
      ]
    },
    {
      "cell_type": "code",
      "metadata": {
        "colab": {
          "base_uri": "https://localhost:8080/",
          "height": 282
        },
        "id": "Bm6xRscQfFcO",
        "outputId": "f997310f-bd4c-4631-e6c6-357005921a6b"
      },
      "source": [
        "#accuracy_recall_scmod = accuracy_recall.copy()\n",
        "#np.save(base_dir+'recall_accuracy_scmod.npy', accuracy_recall_scmod)\n",
        "sns.histplot(data = pd.DataFrame(accuracy_recall_scmod), alpha =0.4, bins =0.1*np.arange(10), stat='probability', kde=True)  #sc_mod recall"
      ],
      "execution_count": null,
      "outputs": [
        {
          "output_type": "execute_result",
          "data": {
            "text/plain": [
              "<matplotlib.axes._subplots.AxesSubplot at 0x7fadbb0567f0>"
            ]
          },
          "metadata": {
            "tags": []
          },
          "execution_count": 27
        },
        {
          "output_type": "display_data",
          "data": {
            "image/png": "[encoded data removed]",
            "text/plain": [
              "<Figure size 432x288 with 1 Axes>"
            ]
          },
          "metadata": {
            "tags": [],
            "needs_background": "light"
          }
        }
      ]
    },
    {
      "cell_type": "code",
      "metadata": {
        "colab": {
          "base_uri": "https://localhost:8080/",
          "height": 395
        },
        "id": "BoOoJaTV8JNH",
        "outputId": "f83df7fa-d426-44a5-9180-135f6a6c0870"
      },
      "source": [
        "fig, ax = plt.subplots(1,3, figsize= (21, 7))\n",
        "sns.histplot(ax = ax[0], data = pd.DataFrame(accuracy_pred_sc), alpha =0.4, bins = 0.1*np.arange(10), stat='probability', kde= True)\n",
        "sns.histplot(ax = ax[1], data = pd.DataFrame(accuracy_pred_fc), alpha =0.4, bins = 0.1*np.arange(10), stat='probability', kde= True)\n",
        "sns.histplot(ax = ax[2], data = pd.DataFrame(accuracy_pred_scmod), alpha =0.4, bins = 0.1*np.arange(10), stat='probability', kde= True)\n",
        "ax[0].set_ylim(0.0, 0.35)\n",
        "ax[1].set_ylim(0.0, 0.35)\n",
        "ax[2].set_ylim(0.0, 0.35)\n",
        "ax[0].set_title('sc', fontsize='20')\n",
        "ax[1].set_title('fc', fontsize='20')\n",
        "ax[2].set_title('modified sc', fontsize='20')\n",
        "plt.show()\n"
      ],
      "execution_count": null,
      "outputs": [
        {
          "output_type": "display_data",
          "data": {
            "image/png": "[encoded data removed]",
            "text/plain": [
              "<Figure size 1512x504 with 3 Axes>"
            ]
          },
          "metadata": {
            "tags": [],
            "needs_background": "light"
          }
        }
      ]
    },
    {
      "cell_type": "code",
      "metadata": {
        "colab": {
          "base_uri": "https://localhost:8080/",
          "height": 469
        },
        "id": "kSBFDhK6h7ZG",
        "outputId": "4946cd08-7a3f-4e51-9e3f-e6e08558601c"
      },
      "source": [
        "fig, ax = plt.subplots(1,3, figsize= (21, 7))\n",
        "sns.histplot(ax = ax[0], data = pd.DataFrame(accuracy_recall_sc), alpha =0.4, bins = 0.1*np.arange(10), stat='probability', kde= True)\n",
        "sns.histplot(ax = ax[1], data = pd.DataFrame(accuracy_recall_fc), alpha =0.4, bins = 0.1*np.arange(10), stat='probability', kde= True)\n",
        "sns.histplot(ax = ax[2], data = pd.DataFrame(accuracy_recall_scmod), alpha =0.4, bins = 0.1*np.arange(10), stat='probability', kde= True)\n",
        "ax[0].set_ylim(0.0, 0.3)\n",
        "ax[1].set_ylim(0.0, 0.3)\n",
        "ax[2].set_ylim(0.0, 0.3)\n",
        "ax[0].set_title('sc', fontsize='20')\n",
        "ax[1].set_title('fc', fontsize='20')\n",
        "ax[2].set_title('modified sc', fontsize='20')\n",
        "plt.show()"
      ],
      "execution_count": null,
      "outputs": [
        {
          "output_type": "display_data",
          "data": {
            "image/png": "[encoded data removed]",
            "text/plain": [
              "<Figure size 1512x504 with 3 Axes>"
            ]
          },
          "metadata": {
            "tags": [],
            "needs_background": "light"
          }
        }
      ]
    },
    {
      "cell_type": "code",
      "metadata": {
        "id": "a5KBStsq_OjK"
      },
      "source": [
        "fig, ax = plt.subplots(1,3, figsize= (21, 7))\n",
        "sns.kdeplot(ax = ax[0], data = pd.DataFrame(accuracy_pred_sc))\n",
        "sns.kdeplot(ax = ax[1], data = pd.DataFrame(accuracy_pred_fc))\n",
        "sns.kdeplot(ax = ax[2], data = pd.DataFrame(accuracy_pred_scmod))\n",
        "ax[0].set_ylim(0,1.8)\n",
        "ax[1].set_ylim(0,1.8)\n",
        "ax[2].set_ylim(0,1.8)\n",
        "ax[1].set_xlim(0,1)\n",
        "ax[2].set_xlim(0,1)\n",
        "ax[0].set_xlim(0,1)\n",
        "ax[0].set_title('sc', fontsize='20')\n",
        "ax[1].set_title('fc', fontsize='20')\n",
        "ax[2].set_title('modified sc', fontsize='20')\n",
        "plt.show()"
      ],
      "execution_count": null,
      "outputs": []
    },
    {
      "cell_type": "code",
      "metadata": {
        "colab": {
          "base_uri": "https://localhost:8080/",
          "height": 320
        },
        "id": "vMgewRJ5kmEm",
        "outputId": "881924c6-eda7-414c-d2b3-a4fec7c360da"
      },
      "source": [
        "plot_contrast(mpls_scmod_pre, lv=1, group_labels=groups)"
      ],
      "execution_count": null,
      "outputs": [
        {
          "output_type": "stream",
          "text": [
            "No handles with labels found to put in legend.\n"
          ],
          "name": "stderr"
        },
        {
          "output_type": "execute_result",
          "data": {
            "text/plain": [
              "<matplotlib.axes._subplots.AxesSubplot at 0x7f6c6d9e4f60>"
            ]
          },
          "metadata": {
            "tags": []
          },
          "execution_count": 29
        },
        {
          "output_type": "display_data",
          "data": {
            "image/png": "[encoded data removed]",
            "text/plain": [
              "<Figure size 432x288 with 1 Axes>"
            ]
          },
          "metadata": {
            "tags": [],
            "needs_background": "light"
          }
        }
      ]
    },
    {
      "cell_type": "code",
      "metadata": {
        "colab": {
          "base_uri": "https://localhost:8080/"
        },
        "id": "D1TqTyp3RT4E",
        "outputId": "bd8f6f63-2938-485b-9570-b88f2a5039d1"
      },
      "source": [
        "mpls_scmod_pre.permres.pvals"
      ],
      "execution_count": null,
      "outputs": [
        {
          "output_type": "execute_result",
          "data": {
            "text/plain": [
              "array([0.019996  , 0.04119176, 0.81123775])"
            ]
          },
          "metadata": {
            "tags": []
          },
          "execution_count": 30
        }
      ]
    },
    {
      "cell_type": "code",
      "metadata": {
        "id": "0KfqcDsDWszr"
      },
      "source": [
        "#fig, ax = plt.subplots(2,4, figsize=(12,8), sharey=True)\n",
        "para_name = ['g', 'gEE', 'gIE', 'gEI', 'cA', 'cB', 'cC']\n",
        "sns.barplot(x=para_name, y = mpls.bootres.x_weights_normed[:7,0])\n",
        "    "
      ],
      "execution_count": null,
      "outputs": []
    },
    {
      "cell_type": "code",
      "metadata": {
        "id": "dIH0kHgucFjd"
      },
      "source": [
        "data_dict['group'].shape"
      ],
      "execution_count": null,
      "outputs": []
    },
    {
      "cell_type": "code",
      "metadata": {
        "colab": {
          "base_uri": "https://localhost:8080/",
          "height": 497
        },
        "id": "7367iyxy31dN",
        "outputId": "0b470bfb-e9e6-476c-fe18-f418b89da01b"
      },
      "source": [
        "fig, ax = plt.subplots(1,1, figsize=(12,8))\n",
        "r_start=0\n",
        "r_end = 0\n",
        "start_ls = [0]\n",
        "start_ls.extend(num_subs_train[:2])\n",
        "grps = []\n",
        "markers =['P', 's', '*']\n",
        "for i, grp in enumerate(groups):\n",
        "  ls_grp = []\n",
        "  \n",
        "  ls_grp.append(grp)\n",
        "  ls_grp_sub = ls_grp * num_subs_train[i]\n",
        "  grps.extend(ls_grp_sub)\n",
        "data_dict ={}\n",
        "data_dict['group'] = np.array(grps)\n",
        "data_dict['0'] = mpls_scmod.x_scores[:,0]\n",
        "data_dict['1'] = mpls_scmod.x_scores[:,1]\n",
        "df = pd.DataFrame.from_dict(data_dict, orient='columns')\n",
        "r_start += start_ls[i]\n",
        "r_end += group_infos[i]\n",
        "  \n",
        "sns.kdeplot(data=df, x='0', y='1', hue='group', fill= True)\n",
        "\"\"\"for i, grp in enumerate(groups):\n",
        "  j = 0\n",
        "  for sub in ppmi[grp]['sc_mod']:\n",
        "    if j < num_subs_train[i]:\n",
        "      x_scores = ppmi[grp]['sc_mod'][sub][mask][mask2].dot(mpls_scmod.x_weights)\n",
        "      ax.plot(x_scores[0], x_scores[1], markers[i], color='black')\n",
        "      \n",
        "\n",
        "      j += 1\n",
        "    else:\n",
        "\n",
        "      j += 1\"\"\"\n",
        "centers = np.zeros((3,3))\n",
        "\n",
        "centers[0,:] = mpls_scmod.x_scores[:num_subs_train[0]].mean(0)\n",
        "centers[1, :] = mpls_scmod.x_scores[num_subs_train[0]:num_subs_train[0]+num_subs_train[1]].mean(0)\n",
        "centers[2,:] = mpls_scmod.x_scores[num_subs_train[0]+num_subs_train[1]:sum(num_subs_train)].mean(0)\n",
        "cs =['b', 'r', 'g']\n",
        "group_mean={}\n",
        "group_mean['CON_NC'] = 0\n",
        "group_mean['PD_NC'] = 0\n",
        "group_mean['PRO_NC'] = 0\n",
        "\n",
        "\n",
        "for i, grp in enumerate(groups):\n",
        "  \n",
        "  for sub in subs_no_train[grp]:\n",
        "    x_scores = (ppmi[grp]['sc_mod'][sub][mask][mask2]).dot(mpls_scmod.x_weights)\n",
        "    c = cs[np.argmin(((centers - x_scores)**2).sum(1))]\n",
        "    \n",
        "    ax.plot(x_scores[0], x_scores[1], markers[i], color=c, markersize=10)\n",
        "\n",
        "    \n",
        "plt.show()\n"
      ],
      "execution_count": null,
      "outputs": [
        {
          "output_type": "display_data",
          "data": {
            "image/png": "[encoded data removed]",
            "text/plain": [
              "<Figure size 864x576 with 1 Axes>"
            ]
          },
          "metadata": {
            "tags": [],
            "needs_background": "light"
          }
        }
      ]
    },
    {
      "cell_type": "code",
      "metadata": {
        "colab": {
          "base_uri": "https://localhost:8080/"
        },
        "id": "JmhVbsa_m-JB",
        "outputId": "14286e00-b492-4ac8-b467-7d21cfa53e80"
      },
      "source": [
        "accuracy_pred"
      ],
      "execution_count": null,
      "outputs": [
        {
          "output_type": "execute_result",
          "data": {
            "text/plain": [
              "{'CON_NC': [0.8, 0.4, 0.5, 0.3, 0.6, 0.3, 0.5, 0.4, 0.3, 0.7],\n",
              " 'PD_NC': [0.6333333333333333,\n",
              "  0.7666666666666667,\n",
              "  0.6666666666666666,\n",
              "  0.8,\n",
              "  0.7,\n",
              "  0.7,\n",
              "  0.7333333333333333,\n",
              "  0.7,\n",
              "  0.7666666666666667,\n",
              "  0.7333333333333333],\n",
              " 'PRO_NC': [0.6, 0.6, 1.0, 0.8, 1.0, 0.4, 1.0, 1.0, 0.8, 0.8]}"
            ]
          },
          "metadata": {
            "tags": []
          },
          "execution_count": 14
        }
      ]
    },
    {
      "cell_type": "code",
      "metadata": {
        "id": "xwCc-WAv8ump"
      },
      "source": [
        "mask2 = np.abs(mpls_scmod_pre.bootres.x_weights_normed[:,0]) > 2.5"
      ],
      "execution_count": null,
      "outputs": []
    },
    {
      "cell_type": "code",
      "metadata": {
        "id": "sDI7NASg0mGW"
      },
      "source": [
        "\n",
        "fig, ax = plt.subplots(1,1, figsize=(20,20))\n",
        "mask = np.tril_indices(96,-1)\n",
        "th = 2.5\n",
        "s = 100*np.ones((96,96))\n",
        "markers_ls=[]\n",
        "X, Y = np.meshgrid(np.arange(96), np.arange(95,-1,-1))\n",
        "for i in range(3):\n",
        "  sc = np.zeros((96,96))\n",
        "  if i == 0:\n",
        "    sc[mask] = mpls_fc.bootres.x_weights_normed[:,0]\n",
        "    sc = (sc+sc.T)\n",
        "    sc[np.abs(sc)< th] = 0\n",
        "    ax.scatter(X,Y, s=s, c=sc, alpha= .3, cmap='bwr', vmin = -1, vmax =1, marker='v')\n",
        "    im, = ax.plot(0,95, 'v', color='b')\n",
        "    markers_ls.append(im)\n",
        "  elif i == 1:\n",
        "    sc[mask] = mpls_sc.bootres.x_weights_normed[:,0]\n",
        "    sc = (sc+sc.T)\n",
        "    sc[np.abs(sc)< th] = 0\n",
        "    ax.scatter(X,Y, s=s, c=sc, alpha= .3, cmap='bwr', vmin = -1, vmax =1, marker='<')\n",
        "    im, = ax.plot(0,95, '<', color='b')\n",
        "    markers_ls.append(im)\n",
        "  else:\n",
        "    sc[mask] = mpls_scmod.bootres.x_weights_normed[:,0]\n",
        "    sc = (sc+sc.T)\n",
        "    sc[np.abs(sc)< th] = 0\n",
        "    ax.scatter(X,Y, s=s, c=sc, alpha= .3, cmap='bwr', vmin = -1, vmax =1, marker='>')\n",
        "    im, = ax.plot(0,95, '>', color='b')\n",
        "    markers_ls.append(im)\n",
        "  ax.legend(markers_ls, ['fc', 'sc', 'sc_mod'])\n",
        "  ax. plot(0,95, 's', color ='w')\n",
        "  #im =ax.imshow(sc, cmap = 'bwr', vmin = -3.5, vmax =3.5, alpha = 0.2)\n",
        "  #fig.colorbar(im, ax = ax, fraction = 0.046, pad = 0.04)\n",
        "  ax.axis('off')\n",
        "plt.show()\n",
        "fig.savefig(base_dir+'pls_onsc_fc_scmod.png')"
      ],
      "execution_count": null,
      "outputs": []
    },
    {
      "cell_type": "code",
      "metadata": {
        "id": "-EomrrNaMTXv"
      },
      "source": [
        "mpls.bootres.x_weights_normed[:,2]"
      ],
      "execution_count": null,
      "outputs": []
    },
    {
      "cell_type": "code",
      "metadata": {
        "id": "CvtfxpJiDciD"
      },
      "source": [
        "fig, ax = plt.subplots(3, 3, figsize=(16,12))\n",
        "j=0\n",
        "for grp in groups:\n",
        "  i=0\n",
        "  for sub in ppmi[grp]['sc']:\n",
        "      if i < 1:\n",
        "          im0 = ax[j, 0].imshow(ppmi[grp]['sc'][sub], cmap='bwr')\n",
        "          im1 = ax[j, 1].imshow(ppmi[grp]['fc'][sub], cmap='bwr')\n",
        "          im2 = ax[j, 2].imshow(ppmi[grp]['fc_test'][sub], cmap='bwr')\n",
        "          fig.colorbar(im0, ax = ax[j,0],  fraction = 0.046, pad = 0.04)\n",
        "          fig.colorbar(im1, ax = ax[j,1],  fraction = 0.046, pad = 0.04)\n",
        "          fig.colorbar(im2, ax = ax[j,2],  fraction = 0.046, pad = 0.04)\n",
        "          ax[j,0].set_title(grp+ '_'+sub +': empirical SC')\n",
        "          ax[j,1].set_title(grp+ '_'+sub +': empirical FC')\n",
        "          ax[j,2].set_title(grp+ '_'+sub +' best fit: simulated FC')\n",
        "          i += 1\n",
        "      else:\n",
        "          break\n",
        "  j += 1\n",
        "plt.show()\n",
        "fig.savefig(base_dir+'PPMI_sc_fc_simfc_3subjects.png')"
      ],
      "execution_count": null,
      "outputs": []
    },
    {
      "cell_type": "code",
      "metadata": {
        "id": "Gs9wzXYb6w-S"
      },
      "source": [
        "fig, ax = plt.subplots(2,4, figsize=(15,8))\n",
        "color_ls =['r', 'g', 'b']\n",
        "for k, grp in enumerate(groups):\n",
        "    \n",
        "    HCP_para = ppmi[grp]['para']\n",
        "    mask=np.tril_indices(96,-1)\n",
        "    data_dict={}\n",
        "    data_dict['g'] = []\n",
        "    data_dict['gEE'] = []\n",
        "    data_dict['gIE'] = []\n",
        "    data_dict['gEI'] = []\n",
        "    data_dict['cA'] = []\n",
        "    data_dict['cB'] = []\n",
        "    data_dict['cC'] = []\n",
        "    para_name = ['g', 'gEE', 'gIE', 'gEI', 'cA', 'cB', 'cC']\n",
        "    for sub in HCP_para:\n",
        "        \n",
        "        data_dict['g'].append(HCP_para[sub][-10:,0].mean())\n",
        "        data_dict['gEE'].append(HCP_para[sub][-10:,1].mean())\n",
        "        data_dict['gIE'].append(HCP_para[sub][-10:,2].mean())\n",
        "        data_dict['gEI'].append(HCP_para[sub][-10:,3].mean())\n",
        "        data_dict['cA'].append(HCP_para[sub][-10:,4].mean())\n",
        "        data_dict['cB'].append(HCP_para[sub][-10:,5].mean())\n",
        "        data_dict['cC'].append(HCP_para[sub][-10:,6].mean())\n",
        "    data_dict['g'] = np.array(data_dict['g'])\n",
        "    data_dict['gEE'] = np.array(data_dict['gEE'])\n",
        "    data_dict['gIE'] = np.array(data_dict['gIE'])\n",
        "    data_dict['gEI'] = np.array(data_dict['gEI'])\n",
        "    data_dict['cA'] = np.array(data_dict['cA'])\n",
        "    data_dict['cB'] = np.array(data_dict['cB'])\n",
        "    data_dict['cC'] = np.array(data_dict['cC'])\n",
        "\n",
        "    for i in range(7):\n",
        "        sns.kdeplot(ax =ax[i//4, i%4], data= data_dict[para_name[i]], c =color_ls[k])\n",
        "        ax[i//4, i%4].set_title('hist of ' + para_name[i] +' across subjects')\n",
        "        ax[i//4, i%4].legend(groups)\n",
        "plt.suptitle('PPMI dataset')\n",
        "plt.show()\n",
        "fig.savefig(base_dir+'PPMI_hist_modelparas.png')"
      ],
      "execution_count": null,
      "outputs": []
    },
    {
      "cell_type": "code",
      "metadata": {
        "id": "uaiAlICdKROV"
      },
      "source": [
        "len(ind[0])//20"
      ],
      "execution_count": null,
      "outputs": []
    },
    {
      "cell_type": "code",
      "metadata": {
        "id": "4CQ1KmgO7Akp"
      },
      "source": [
        "ind = np.tril_indices(96,-1)\n",
        "for j in range(len(ind[0])//20):\n",
        "    \n",
        "    fig, ax = plt.subplots(5,4, figsize=(15,18))\n",
        "    color_ls =['r', 'g', 'b']\n",
        "\n",
        "    for k, grp in enumerate(groups):\n",
        "        \n",
        "        \n",
        "        mask=np.tril_indices(96,-1)\n",
        "        data_dict ={}\n",
        "        \n",
        "        for i in range(20):\n",
        "            name = str(ind[0][j*20+i])+ 'to'+str(ind[1][j*20+i])+' weight'\n",
        "            #para_name.append(name)\n",
        "            values = []\n",
        "            for sub in ppmi[grp]['sc_mod']:\n",
        "                \n",
        "                values.append(ppmi[grp]['sc_mod'][sub][ind[0][j*20+i], ind[1][j*20+i]])\n",
        "        \n",
        "            values = np.array(values)\n",
        "            values += np.random.uniform(1e-11, 1e-10, values.shape)\n",
        "            data_dict[name] = values\n",
        "            #print(grp, data_dict[name].shape, data_dict[name].min(), (data_dict[name] < 0.001).sum())\n",
        "            #data_dict[para_name[i]] =[sc_mod[j*20+i] for sc_mod in data_ls]\n",
        "            sns.kdeplot(ax =ax[i//4, i%4], data= data_dict[name], log_scale = True, c =color_ls[k])##.set(xlim=(0))\n",
        "            #ax[i//4, i%4].hist(data_dict[name], color=color_ls[k], bins =40, density = True, histtype='step',linestyle='solid')\n",
        "            ax[i//4, i%4].set_title('hist of ' + name +' across subjects')\n",
        "            ax[i//4, i%4].legend(groups)\n",
        "            #ax[i//4,i%4].set_ylim(0,0.001)\n",
        "    plt.suptitle('PPMI dataset')\n",
        "    plt.show()\n",
        "    fig.savefig(base_dir+'PPMI_hist_modelweights_'+ str(j) +'.png')"
      ],
      "execution_count": null,
      "outputs": []
    },
    {
      "cell_type": "code",
      "metadata": {
        "id": "1a7NNbvrBCZ5"
      },
      "source": [
        "np.tril_indices(96,1)[1][0]"
      ],
      "execution_count": null,
      "outputs": []
    },
    {
      "cell_type": "code",
      "metadata": {
        "id": "4WfsH5SyqPUh"
      },
      "source": [
        "fig, ax = plt.subplots(2,4, figsize=(15,8))\n",
        "grp = 'CON_NC'\n",
        "HCP_para = ppmi_CON_NC_para\n",
        "mask=np.tril_indices(96,-1)\n",
        "data_dict={}\n",
        "data_dict['g'] = []\n",
        "data_dict['gEE'] = []\n",
        "data_dict['gIE'] = []\n",
        "data_dict['gEI'] = []\n",
        "data_dict['cA'] = []\n",
        "data_dict['cB'] = []\n",
        "data_dict['cC'] = []\n",
        "para_name = ['g', 'gEE', 'gIE', 'gEI', 'cA', 'cB', 'cC']\n",
        "for sub in HCP_para:\n",
        "    \n",
        "    data_dict['g'].append(HCP_para[sub][-10:,0].mean())\n",
        "    data_dict['gEE'].append(HCP_para[sub][-10:,1].mean())\n",
        "    data_dict['gIE'].append(HCP_para[sub][-10:,2].mean())\n",
        "    data_dict['gEI'].append(HCP_para[sub][-10:,3].mean())\n",
        "    data_dict['cA'].append(HCP_para[sub][-10:,4].mean())\n",
        "    data_dict['cB'].append(HCP_para[sub][-10:,5].mean())\n",
        "    data_dict['cC'].append(HCP_para[sub][-10:,6].mean())\n",
        "data_dict['g'] = np.array(data_dict['g'])\n",
        "data_dict['gEE'] = np.array(data_dict['gEE'])\n",
        "data_dict['gIE'] = np.array(data_dict['gIE'])\n",
        "data_dict['gEI'] = np.array(data_dict['gEI'])\n",
        "data_dict['cA'] = np.array(data_dict['cA'])\n",
        "data_dict['cB'] = np.array(data_dict['cB'])\n",
        "data_dict['cC'] = np.array(data_dict['cC'])\n",
        "\n",
        "for i in range(7):\n",
        "    sns.kdeplot(ax =ax[i//4, i%4], data= data_dict[para_name[i]])\n",
        "    ax[i//4, i%4].set_title('hist of ' + para_name[i] +' across subjects')\n",
        "  \n",
        "plt.show()\n",
        "fig.savefig(base_dir+'PPMI_'+grp + '_hist_modelparas.png')"
      ],
      "execution_count": null,
      "outputs": []
    },
    {
      "cell_type": "code",
      "metadata": {
        "id": "sGEL_xvc1zyl"
      },
      "source": [
        "values"
      ],
      "execution_count": null,
      "outputs": []
    },
    {
      "cell_type": "code",
      "metadata": {
        "id": "SsSEAPdKzV6e"
      },
      "source": [
        "fig, ax = plt.subplots(2,4, figsize=(15,8))\n",
        "grp = 'PD_NC'\n",
        "HCP_para = ppmi_PD_NC_para\n",
        "mask=np.tril_indices(96,-1)\n",
        "data_dict={}\n",
        "data_dict['g'] = []\n",
        "data_dict['gEE'] = []\n",
        "data_dict['gIE'] = []\n",
        "data_dict['gEI'] = []\n",
        "data_dict['cA'] = []\n",
        "data_dict['cB'] = []\n",
        "data_dict['cC'] = []\n",
        "para_name = ['g', 'gEE', 'gIE', 'gEI', 'cA', 'cB', 'cC']\n",
        "for sub in HCP_para:\n",
        "    \n",
        "    data_dict['g'].append(HCP_para[sub][-10:,0].mean())\n",
        "    data_dict['gEE'].append(HCP_para[sub][-10:,1].mean())\n",
        "    data_dict['gIE'].append(HCP_para[sub][-10:,2].mean())\n",
        "    data_dict['gEI'].append(HCP_para[sub][-10:,3].mean())\n",
        "    data_dict['cA'].append(HCP_para[sub][-10:,4].mean())\n",
        "    data_dict['cB'].append(HCP_para[sub][-10:,5].mean())\n",
        "    data_dict['cC'].append(HCP_para[sub][-10:,6].mean())\n",
        "data_dict['g'] = np.array(data_dict['g'])\n",
        "data_dict['gEE'] = np.array(data_dict['gEE'])\n",
        "data_dict['gIE'] = np.array(data_dict['gIE'])\n",
        "data_dict['gEI'] = np.array(data_dict['gEI'])\n",
        "data_dict['cA'] = np.array(data_dict['cA'])\n",
        "data_dict['cB'] = np.array(data_dict['cB'])\n",
        "data_dict['cC'] = np.array(data_dict['cC'])\n",
        "\n",
        "for i in range(7):\n",
        "    sns.kdeplot(ax =ax[i//4, i%4], data= data_dict[para_name[i]])\n",
        "    ax[i//4, i%4].set_title('hist of ' + para_name[i] +' across subjects')\n",
        "  \n",
        "plt.show()\n",
        "fig.savefig(base_dir+'PPMI_'+grp + '_hist_modelparas.png')"
      ],
      "execution_count": null,
      "outputs": []
    },
    {
      "cell_type": "code",
      "metadata": {
        "id": "D5sd0Er-2EQ7"
      },
      "source": [
        "HCP_fc.keys()"
      ],
      "execution_count": null,
      "outputs": []
    },
    {
      "cell_type": "code",
      "metadata": {
        "id": "M-Oif2K0LLxf"
      },
      "source": [
        "\n",
        "grp = 'CON_NC'\n",
        "HCP_fc = ppmi_CON_NC_fc\n",
        "HCP_fc_sim = ppmi_CON_NC_fc_sim\n",
        "n_row = len(HCP_fc)//4+1\n",
        "fig, ax = plt.subplots(n_row,4, figsize=(12,20))\n",
        "i=0\n",
        "mask=np.tril_indices(96,-1)\n",
        "for sub in HCP_fc:\n",
        "    data_dict={}\n",
        "    data_dict['empFC'] = HCP_fc[sub][mask]\n",
        "    data_dict['simFC'] = HCP_fc_sim[sub][mask]\n",
        "    #data_dict['testFC'] = HCP_fc_test[sub][mask]\n",
        "    sns.kdeplot(ax =ax[i//4, i%4], data= pd.DataFrame(data_dict))\n",
        "    ax[i//4, i%4].set_title(sub)\n",
        "    i += 1\n",
        "plt.suptitle('hist of FC weights')\n",
        "plt.show()\n",
        "fig.savefig(base_dir+'PPMI'+ grp +'_hist_FCs.png')"
      ],
      "execution_count": null,
      "outputs": []
    },
    {
      "cell_type": "code",
      "metadata": {
        "id": "YhCID12z3cxR"
      },
      "source": [
        "n_row"
      ],
      "execution_count": null,
      "outputs": []
    },
    {
      "cell_type": "code",
      "metadata": {
        "id": "UUW4bPV409wh"
      },
      "source": [
        "\n",
        "grp = 'PD_NC'\n",
        "HCP_fc = ppmi_PD_NC_fc\n",
        "HCP_fc_sim = ppmi_PD_NC_fc_sim\n",
        "n_row = len(HCP_fc)//4 +1\n",
        "fig, ax = plt.subplots(n_row,4, figsize=(12,36))\n",
        "i=0\n",
        "mask=np.tril_indices(96,-1)\n",
        "for sub in HCP_fc:\n",
        "    data_dict={}\n",
        "    data_dict['empFC'] = HCP_fc[sub][mask]\n",
        "    data_dict['simFC'] = HCP_fc_sim[sub][mask]\n",
        "    #data_dict['testFC'] = HCP_fc_test[sub][mask]\n",
        "    sns.kdeplot(ax =ax[i//4, i%4], data= pd.DataFrame(data_dict))\n",
        "    ax[i//4, i%4].set_title(sub)\n",
        "    i += 1\n",
        "plt.suptitle('hist of FC weights')\n",
        "plt.show()\n",
        "fig.savefig(base_dir+'PPMI'+ grp +'_hist_FCs.png')"
      ],
      "execution_count": null,
      "outputs": []
    },
    {
      "cell_type": "code",
      "metadata": {
        "id": "nT99d1vUPslD"
      },
      "source": [
        "fig, ax = plt.subplots(5,4, figsize=(12,18))\n",
        "i=0\n",
        "mask=np.tril_indices(83,-1)\n",
        "for sub in HCP_sc:\n",
        "    data_dict={}\n",
        "    data_dict['originalSC'] = HCP_sc[sub][mask]\n",
        "    data_dict['modifiedSC'] = HCP_sc_mod[sub][mask]\n",
        "    sns.kdeplot(ax =ax[i//4, i%4], data= pd.DataFrame(data_dict))\n",
        "    ax[i//4, i%4].set_title(sub+': hist of SC weights')\n",
        "    i += 1\n",
        "plt.show()\n",
        "fig.savefig(base_dir+'HCP_hist_SCs.png')"
      ],
      "execution_count": null,
      "outputs": []
    },
    {
      "cell_type": "code",
      "metadata": {
        "id": "MX5RpUqtOSPt"
      },
      "source": [
        "mask=np.tril_indices(96,-1)\n",
        "def sigmoid(x):\n",
        "    return 1.0/(1+np.exp(-x))\n",
        "def smooth_normalize(x):\n",
        "        x[x< 0.000001] =0.000001\n",
        "    \n",
        "        return x\n",
        "def f_diffusion_tr_noise(X, G, gEE, gIE, gEI, Ws):\n",
        "    \n",
        "    global step_size\n",
        "    \n",
        "    def smooth_normalize_ct(x, center):\n",
        "        return center+ (center-0.001)*np.tanh((x-center)/(center - 0.001))\n",
        "    def smooth_normalize(x):\n",
        "        x[x< 0.000001] =0.000001\n",
        "    \n",
        "        return x\n",
        "\n",
        "    def sigmoid(a, b, d, x):\n",
        "        return (a*x-b)/(1.0000-np.exp(-d*(a*x-b)))\n",
        "    \n",
        "    \n",
        "    dt = step_size\n",
        "    \n",
        "    num_para =0\n",
        "    state_size = np.int(0.75//dt)\n",
        "    L_s = -np.diag(np.sum(Ws, axis= 1)) + Ws\n",
        "    I0 = 0.2\n",
        "    gamma = 0.641/1000.\n",
        "    gammaI = 1.0/1000.\n",
        "    #Wplus = .8\n",
        "    Ie = 0\n",
        "     #smooth_normalize_ct(_Ji[:,0],1.0)\n",
        "    aE = 310\n",
        "    bE = 125\n",
        "    dE_0 = 0.16\n",
        "    WE = 1.0 #18.4576#1.0\n",
        "    \n",
        "    aI = 615\n",
        "    bI = 177\n",
        "    dI_0 = 0.087\n",
        "    WI = 0.7\n",
        "    \n",
        "    tauE = 100.\n",
        "    tauI = 10.\n",
        "    \n",
        "    \n",
        "    W1= 0.02\n",
        "    \n",
        "    #G = .1\n",
        "    N=1\n",
        "    E = X[num_para:num_para+N*ROI_size]#smooth_normalize_ct(X[num_para:num_para+N*ROI_size], 0.5)\n",
        "    I = X[num_para+N*ROI_size:num_para+2*N*ROI_size]#smooth_normalize_ct(X[num_para+N*ROI_size:num_para+2*N*ROI_size], .5)\n",
        "    q = X[-N*ROI_size:] #smooth_normalize_ct(X[-N*ROI_size:],1.0)\n",
        "    v = X[-2*N*ROI_size:-N*ROI_size]#smooth_normalize_ct(X[-2*N*ROI_size:-N*ROI_size],1.)\n",
        "    f = X[-3*N*ROI_size:-2*N*ROI_size]#smooth_normalize_ct(X[-3*N*ROI_size:-2*N*ROI_size], 1.)\n",
        "    x = X[-4*N*ROI_size:-3*N*ROI_size]#np.tanh(X[-4*N*ROI_size:-3*N*ROI_size])#smooth_normalize(X[-4*N*ROI_size:-3*N*ROI_size], .5)\n",
        "    #print(E.shape)\n",
        "    #subID='AD_016_S_4902.mat'\n",
        "    \n",
        "    \n",
        "    rho=0.34;\n",
        "    tau_0=0.98;\n",
        "    #tau_s=0.8;\n",
        "    #tau_f=0.4;\n",
        "    alpha =0.32;\n",
        "    #s=0.5;\n",
        "    #E = np.tanh(E/200.0)\n",
        "    #I =np.tanh(I/200.0)\n",
        "    def fout(v, k):\n",
        "        return (k*v)**(1.0/alpha)/k\n",
        "    def Ef(f,k):\n",
        "        return 1.0-(1.0- rho)**(1.0/f/k)\n",
        "    \n",
        "    \n",
        "    k = 1.\n",
        "    #x=x/(np.max(np.abs(x))+0.002)\n",
        "    #print E.shape\n",
        "    sigma = 1.\n",
        "    \n",
        "    epsilon = 1.0 #+ 0.2 *np.tanh(Theta[5:6]) # smooth_normalize(X[5:6], 0.5)\n",
        "    tau_s = 0.65 #+ 0.2 *np.tanh(Theta[6:7])\n",
        "    tau_f = 0.41 #+ 0.2 *np.tanh(Theta[7:8])\n",
        "    \n",
        "        \n",
        "    IE = np.tanh(smooth_normalize(WE*I0 + gEE*E + G*np.dot(L_s, E) -gIE*(I) + Ie))\n",
        "    II = np.tanh(smooth_normalize(WI*I0 + gEI*E - I)) \n",
        "      \n",
        "    dE =  E - dt*(E)/tauE \\\n",
        "        +dt*(1.0-E)*gamma*sigmoid(aE, bE, dE_0, IE)\\\n",
        "            +W1*np.sqrt(dt)*np.random.randn(ROI_size)\n",
        "        \n",
        "    \n",
        "    dI =  I - dt*(I)/tauI \\\n",
        "          + dt*gammaI*sigmoid(aI, bI, dI_0, II)+W1*np.sqrt(dt)*np.random.randn(ROI_size)\n",
        "    \n",
        "    \n",
        "    dx = x+dt*(epsilon*(E)/sigma \\\n",
        "                -1.0/tau_s*x \\\n",
        "            -1.0/tau_f *(k*f-1))\n",
        "    f_tmp= f+dt*1/k*x\n",
        "    dv= v+dt*(f/tau_0 -fout(v,k)/tau_0)\n",
        "    dq= q+ dt*(f*Ef(f,k)/rho/tau_0\\\n",
        "              -q/v*fout(v,k)/tau_0)\n",
        "    df = f_tmp\n",
        "    \n",
        "    x = np.tanh(dx) #smooth_normalize(dx, 0.5)\n",
        "    v= 1.0+ np.tanh(dv-1.0)#smooth_normalize_ct(dv, tf.constant(1., dtype=tf.float32), tf.constant(0., dtype=tf.float32), tf.constant(1.0, dtype=tf.float32))\n",
        "    q=  1.0+ np.tanh(dq-1.0)#smooth_normalize_ct(dq, tf.constant(1., dtype=tf.float32), tf.constant(0., dtype=tf.float32), tf.constant(1.0, dtype=tf.float32))\n",
        "    f= 1.0+ np.tanh(f_tmp-1.0) \n",
        "    E = np.tanh(smooth_normalize(dE))#1.0 + np.tanh(dE - 1.0) #smooth_normalize_ct(dE, 1.0)#np.tanh(dE/200.0)\n",
        "    I = np.tanh(smooth_normalize(dI))#1.0 + np.tanh(dI - 1.0)#smooth_normalize_ct(dI, 1.0)#np.tanh(dI/200.0)\n",
        "    \"\"\"return np.concatenate((g1,g2,g12,g21,sigma,epsilon,tau_s,tau_f,\\\n",
        "                           E, I, x, f, v, q))\"\"\"\n",
        "    return np.concatenate((E, I, x, f, v, q))\n",
        "\n",
        "def h_diffusion_noise(X):\n",
        "    def smooth_normalize_ct(x, center):\n",
        "        return center+ (center-0.001)*np.tanh((x-center)/(center - 0.001))\n",
        "    def smooth_normalize(x):\n",
        "        x[x< 0.000001] =0.000001\n",
        "    \n",
        "        return x\n",
        "\n",
        "    def sigmoid(a, b, d, x):\n",
        "        return (a*x-b)/(1.0000-np.exp(-d*(a*x-b)))\n",
        "    \n",
        "    W2= 0.02 #Theta[3:4]#0.02 + smooth_normalize(Theta[3:4])\n",
        "    E0=0.34\n",
        "    rho=0.34\n",
        "    k1 = 7*E0\n",
        "    k2 = 2.\n",
        "    k3 = 2*E0-0.2\n",
        "    #w= Theta[3:4]\n",
        "    #W2 = 0.01\n",
        "    V = 0.02 #1.0 + smooth_normalize(Theta[9:10])\n",
        "    #V= 30.0\n",
        "    q = X[-ROI_size:]\n",
        "    v = X[-2*ROI_size:-ROI_size]\n",
        "    k= 1.\n",
        "    #v = a+ a*np.tanh((v-a)/a)/1.1\n",
        "    y= k1*(1-k*q)+k2*(1-q/v)+k3*(1-k*v)\n",
        "    #q = a+ a*np.tanh((q-a)/a)/1.1\n",
        "    return 100.0/E0*V*(y)#+W2*np.random.randn(ROI_size)"
      ],
      "execution_count": 9,
      "outputs": []
    },
    {
      "cell_type": "code",
      "metadata": {
        "id": "m5xFerreUtRh",
        "colab": {
          "base_uri": "https://localhost:8080/"
        },
        "outputId": "1c796fa0-44b8-47f4-ddb4-d6bb2a8e010f"
      },
      "source": [
        "#ppmi_E_test={}\n",
        "for grp in groups:\n",
        "    print(grp)\n",
        "    \"\"\"ppmi[grp]['fc_test']={}\n",
        "    ppmi[grp]['ts_test']={}\n",
        "    ppmi[grp]['corr_test']={}\n",
        "    ppmi[grp]['corr_train']={}\"\"\"\n",
        "    ##ppmi_E_test[grp] = {}\n",
        "    Tr = 2.0\n",
        "    batch_size = 96\n",
        "    step_size = 0.05\n",
        "    hidden_size = np.int(Tr//step_size)\n",
        "    X0 = np.random.uniform(0,1, (6*batch_size,))\n",
        "    X0[3*batch_size:] = 1.0+X0[3*batch_size:]\n",
        "\n",
        "    for sub in ppmi[grp]['sc']:\n",
        "        print(sub)\n",
        "        G = smooth_normalize(np.array([ppmi[grp]['para'][sub][-10:,0:1].mean()]))\n",
        "        gEE = smooth_normalize(np.array([ppmi[grp]['para'][sub][-10:,1:2].mean()]))\n",
        "        gIE = smooth_normalize(np.array([ppmi[grp]['para'][sub][-10:,2:3].mean()]))\n",
        "        gEI = smooth_normalize(np.array([ppmi[grp]['para'][sub][-10:,3:4].mean()]))\n",
        "        \n",
        "        tys=[]\n",
        "        E = []\n",
        "        I = []\n",
        "        \n",
        "        ROI_size= batch_size\n",
        "        for j in range(1200*hidden_size):\n",
        "            X = f_diffusion_tr_noise(X0, G,gEE, gIE, gEI, ppmi[grp]['sc_mod'][sub])\n",
        "            E.append(X[:batch_size])\n",
        "            I.append(X[batch_size:2*batch_size])\n",
        "            X0 = X\n",
        "\n",
        "            if j % hidden_size == hidden_size - 1:\n",
        "                tys.append(h_diffusion_noise(X0))\n",
        "            \n",
        "        \n",
        "        tys=np.array(tys)\n",
        "        E = np.array(E)\n",
        "        np.savetxt(base_dir+sub+\"E_test.txt\", E)\n",
        "        I = np.array(I)\n",
        "        np.savetxt(base_dir+sub+\"I_test.txt\", I)\n",
        "        #print(E.shape)\n",
        "        #ppmi_E_test[grp][sub] = E\n",
        "        \"\"\"ppmi[grp]['ts_test'][sub] = tys.copy()\n",
        "        fc_sim = np.corrcoef(tys[20:,:].T)\n",
        "        fc = ppmi[grp]['fc'][sub]\n",
        "        ppmi[grp]['fc_test'][sub] =fc_sim.copy()\n",
        "        ppmi[grp]['corr_test'][sub] = np.corrcoef(fc[mask], fc_sim[mask])[0,1]\n",
        "        ppmi[grp]['corr_train'][sub] = np.corrcoef(fc[mask], ppmi[grp]['fc_sim'][sub][mask])[0,1]\n",
        "        print(ppmi[grp]['corr_test'][sub], ppmi[grp]['corr_train'][sub])\"\"\"\n",
        "#np.save(base_dir+'PPMI_WWD_model_fitting_E_test.npy', ppmi_E_test)\n"
      ],
      "execution_count": 10,
      "outputs": [
        {
          "output_type": "stream",
          "text": [
            "CON_NC\n",
            "PPMI3551\n",
            "PPMI3389\n",
            "PPMI50143\n",
            "PPMI40360\n",
            "PPMI51392\n",
            "PPMI3563\n",
            "PPMI3353\n",
            "PPMI3351\n",
            "PPMI3310\n",
            "PPMI51302\n",
            "PPMI50172\n",
            "PPMI50222\n",
            "PPMI4018\n",
            "PPMI50110\n",
            "PPMI3769\n",
            "PPMI3318\n",
            "PPMI3390\n",
            "PPMI40451\n",
            "PPMI50225\n",
            "PPMI3361\n",
            "PPMI3350\n",
            "PPMI3106\n",
            "PPMI3565\n",
            "PD_NC\n",
            "PPMI3375\n",
            "PPMI3582\n",
            "PPMI3372\n",
            "PPMI3119\n",
            "PPMI4019\n",
            "PPMI3567\n",
            "PPMI4034\n",
            "PPMI3332\n",
            "PPMI3101\n",
            "PPMI3326\n",
            "PPMI3835\n",
            "PPMI3128\n",
            "PPMI3593\n",
            "PPMI3380\n",
            "PPMI50901\n",
            "PPMI3122\n",
            "PPMI3581\n",
            "PPMI3829\n",
            "PPMI3808\n",
            "PPMI3585\n",
            "PPMI3383\n",
            "PPMI4013\n",
            "PPMI4035\n",
            "PPMI3113\n",
            "PPMI3327\n",
            "PPMI3550\n",
            "PPMI3828\n",
            "PPMI4011\n",
            "PPMI3573\n",
            "PPMI3838\n",
            "PPMI4038\n",
            "PPMI3832\n",
            "PPMI3386\n",
            "PPMI3824\n",
            "PPMI3373\n",
            "PPMI3556\n",
            "PPMI3354\n",
            "PPMI3836\n",
            "PPMI3377\n",
            "PPMI3586\n",
            "PPMI4030\n",
            "PPMI3822\n",
            "PPMI4005\n",
            "PPMI3823\n",
            "PPMI3589\n",
            "PPMI3587\n",
            "PPMI3592\n",
            "PPMI3831\n",
            "PPMI3591\n",
            "PPMI3384\n",
            "PPMI3815\n",
            "PPMI40366\n",
            "PPMI3126\n",
            "PPMI3387\n",
            "PPMI3819\n",
            "PPMI3830\n",
            "PPMI4021\n",
            "PPMI3575\n",
            "PPMI3132\n",
            "PPMI3108\n",
            "PPMI3814\n",
            "PPMI3871\n",
            "PPMI3825\n",
            "PPMI3365\n",
            "PPMI4029\n",
            "PRO_NC\n",
            "PPMI60024\n",
            "PPMI60033\n",
            "PPMI60074\n",
            "PPMI60023\n",
            "PPMI60036\n",
            "PPMI60073\n",
            "PPMI85242\n",
            "PPMI60070\n",
            "PPMI60041\n",
            "PPMI60040\n",
            "PPMI16644\n",
            "PPMI60035\n",
            "PPMI60043\n",
            "PPMI14426\n",
            "PPMI60075\n"
          ],
          "name": "stdout"
        }
      ]
    },
    {
      "cell_type": "code",
      "metadata": {
        "id": "nVKkg1NXZmxd"
      },
      "source": [
        "sns.kdeplot(data = corr_sim)\n",
        "plt.savefig(base_dir+'HCP_hist_fittingcorrelation.png')"
      ],
      "execution_count": null,
      "outputs": []
    },
    {
      "cell_type": "code",
      "metadata": {
        "id": "Yoa8lq7saP9A"
      },
      "source": [
        "HCP_fc_test_3 = HCP_fc_test.copy()"
      ],
      "execution_count": null,
      "outputs": []
    },
    {
      "cell_type": "code",
      "metadata": {
        "id": "x767R7LQfQRb"
      },
      "source": [
        "fig, ax = plt.subplots(5,4, figsize=(12,18))\n",
        "i=0\n",
        "mask=np.tril_indices(83,-1)\n",
        "for sub in HCP_fc:\n",
        "    data_dict={}\n",
        "    data_dict['testFC_1'] = HCP_fc_test_1[sub][mask]\n",
        "    data_dict['testFC_2'] = HCP_fc_test_2[sub][mask]\n",
        "    data_dict['testFC_3'] = HCP_fc_test_3[sub][mask]\n",
        "    sns.kdeplot(ax =ax[i//4, i%4], data= pd.DataFrame(data_dict))\n",
        "    ax[i//4, i%4].set_title(sub+': hist of FC weights')\n",
        "    i += 1\n",
        "plt.show()\n",
        "fig.savefig(base_dir+'HCP_hist_FCs_differenttests.png')"
      ],
      "execution_count": null,
      "outputs": []
    },
    {
      "cell_type": "code",
      "metadata": {
        "id": "cFG9hhpB12qr"
      },
      "source": [
        "fig, ax = plt.subplots(5,4, figsize=(16,16))\n",
        "i=0\n",
        "mask=np.tril_indices(83,-1)\n",
        "for sub in HCP_fc:\n",
        "    data=[]\n",
        "    data_index=[]\n",
        "    data.append(np.corrcoef(HCP_fc_test_2[sub][mask], HCP_fc_test_1[sub][mask])[0,1])\n",
        "    data_index.append(12)\n",
        "    data_index.append(13) \n",
        "    data.append(np.corrcoef(HCP_fc_test_1[sub][mask], HCP_fc_test_3[sub][mask])[0,1])\n",
        "\n",
        "    data_index.append(23) \n",
        "    data.append(np.corrcoef(HCP_fc_test_2[sub][mask], HCP_fc_test_3[sub][mask])[0,1])\n",
        "    ax[i//4, i%4].bar([1,2,3], data, tick_label= data_index)\n",
        "    ax[i//4,i%4].set_ylim(0.5,1)\n",
        "    ax[i//4, i%4].set_title(sub+': correlation between test')\n",
        "    i += 1\n",
        "plt.show()\n",
        "fig.savefig(base_dir+'HCP_corr_FCs_test.png')"
      ],
      "execution_count": null,
      "outputs": []
    },
    {
      "cell_type": "code",
      "metadata": {
        "id": "yobywsjeuvsd"
      },
      "source": [
        "### bifurcation analysis\n",
        "param = {\n",
        "\n",
        "# Parameters for the integration\n",
        "\"dt\"         : 0.001,     # integration step size   \n",
        "\"ROI_num\" : 1,       # number of neural nodes\n",
        "\n",
        "\n",
        "# Parameters for the ODEs\n",
        "# Excitatory population\n",
        "\"W_E\" : 1.,              # scale of the external input\n",
        "\"tau_E\" : 100.,          # decay time\n",
        "\"gamma_E\" : 0.641/1000.,       # other dynamic parameter (?)\n",
        "\n",
        "# Inhibitory population\n",
        "\"W_I\" : 0.7,             # scale of the external input\n",
        "\"tau_I\" : 10.,           # decay time\n",
        "\"gamma_I\" : 1./1000.,          # other dynamic parameter (?)\n",
        "\n",
        "# External input\n",
        "\"I_0\" : 0.2,          # external input\n",
        "\"I_external\" : 0.,       # external stimulation\n",
        "\n",
        "# Coupling parameters\n",
        "\"g\" : 20.,               # global coupling (from all nodes E_j to single node E_i)\n",
        "\"g_EE\" : .5,            # local self excitatory feedback (from E_i to E_i)\n",
        "\"g_IE\" : .14,            # local inhibitory coupling (from I_i to E_i)\n",
        "\"g_EI\" : 0.15,            # local excitatory coupling (from E_i to I_i)\n",
        "\"lamb\" : 0.,             # scale of global coupling on I_i (compared to E_i)\n",
        "\n",
        "\"aE\":310,\n",
        "\"bE\" :125,\n",
        "\"dE\":0.16,\n",
        "\"aI\":615,\n",
        "\"bI\" :177, \n",
        "\"dI\" :0.087, \n",
        "\n",
        "\n",
        "\n",
        "} ### initial values of all model prameters\n",
        "\n",
        "def h_tf(a, b, d, x):\n",
        "    return (a*x-b)/(1.0000 -np.exp(-d*(a*x-b)))\n",
        "def dh_tf(a,b,d, x):\n",
        "\n",
        "        tmp_e=np.exp(-d*(a*x-b))\n",
        "        tmp_d=1.-np.exp(-d*(a*x-b))\n",
        "        slope_E=(a*tmp_d-(a*x-b)*d*a*tmp_e)/tmp_d**2\n",
        "        return slope_E\n",
        "\n",
        "def smooth_normalize(x):\n",
        "    if x < 0.000001:\n",
        "        x =0.000001\n",
        "    return x\n",
        "\n",
        "##### Wong-wang deco + Balloon BOLD\n",
        "def derivative(x): ### var is a vectior with 6 which is arragned by: E, I from Neural Model \n",
        "                                                                           ###    q, v, f, x from Balloon Model\n",
        "    \n",
        "\n",
        "    # Equations for the neural masses\n",
        "    E = x[0]\n",
        "    I = x[1]\n",
        "    \n",
        "\n",
        "    W_E = param[\"W_E\"]\n",
        "    tau_E = param[\"tau_E\"]\n",
        "    gamma_E = param[\"gamma_E\"]\n",
        "\n",
        "    W_I = param[\"W_I\"]\n",
        "    tau_I = param[\"tau_I\"]\n",
        "    gamma_I = param[\"gamma_I\"]\n",
        "\n",
        "    I_0 = param[\"I_0\"]\n",
        "    \n",
        "    g_EE = param[\"g_EE\"]\n",
        "    g_IE = param[\"g_IE\"]\n",
        "    g_EI = param[\"g_EI\"]\n",
        "    aE = param[\"aE\"]\n",
        "    bE = param[\"bE\"] \n",
        "    dE = param[\"dE\"]\n",
        "    aI = param[\"aI\"]\n",
        "    bI = param[\"bI\"] \n",
        "    dI = param[\"dI\"]\n",
        "\n",
        "    IE = W_E*I_0 +g_EE*E -g_IE*I  #  input currents for E\n",
        "    II = W_I*I_0 +g_EI*E -I  #  input currents for I \n",
        "    rE = h_tf(aE, bE, dE, IE) # firing rate for E\n",
        "    rI = h_tf(aI, bI, dI, II) # firing rate for I \n",
        "    ddE = -E/tau_E +gamma_E*(1.-E)*rE  ### equlibrim point at E=(tau_E*gamma_E*rE)/(1+tau_E*gamma_E*rE)\n",
        "    ddI = -I/tau_I +gamma_I*rI         ### equlibrim point at I=tau_I*gamma_I*rI\n",
        "\n",
        "\n",
        "    #print(rE, rI)\n",
        "\n",
        "    return 10000.0*np.array([ddE, ddI])\n",
        "\n",
        "\n",
        "\n"
      ],
      "execution_count": null,
      "outputs": []
    },
    {
      "cell_type": "code",
      "metadata": {
        "id": "z07ho2Ftyvd_"
      },
      "source": [
        "\n",
        "from scipy.optimize import fsolve \n",
        "fig, ax = plt.subplots(2,4, figsize=(12,8))\n",
        "\n",
        "mask=np.tril_indices(83,-1)\n",
        "data_dict={}\n",
        "data_dict['g'] = []\n",
        "data_dict['gEE'] = []\n",
        "data_dict['gIE'] = []\n",
        "data_dict['gEI'] = []\n",
        "data_dict['cA'] = []\n",
        "data_dict['cB'] = []\n",
        "data_dict['cC'] = []\n",
        "data_dict['regime'] =[]\n",
        "\n",
        "para_name = ['g', 'gEE', 'gIE', 'gEI', 'cA', 'cB', 'cC', 'regime']\n",
        "for sub in HCP_para:\n",
        "    \n",
        "    data_dict['g'].append(HCP_para[sub][-10:,0].mean())\n",
        "    data_dict['gEE'].append(HCP_para[sub][-10:,1].mean())\n",
        "    data_dict['gIE'].append(HCP_para[sub][-10:,2].mean())\n",
        "    data_dict['gEI'].append(HCP_para[sub][-10:,3].mean())\n",
        "    data_dict['cA'].append(HCP_para[sub][-10:,4].mean())\n",
        "    data_dict['cB'].append(HCP_para[sub][-10:,5].mean())\n",
        "    data_dict['cC'].append(HCP_para[sub][-10:,6].mean())\n",
        "    param['g'] = HCP_para[sub][-10:,0].mean()\n",
        "    param['g_EE'] = HCP_para[sub][-10:,1].mean()\n",
        "    param['g_IE'] = HCP_para[sub][-10:,2].mean()\n",
        "    param['g_EI'] = HCP_para[sub][-10:,3].mean()\n",
        "    initial = np.random.uniform(0.,2, [2, 100])\n",
        "    solns = []\n",
        "    for i in range(100):\n",
        "        x0 = initial[:,i]\n",
        "        #print('x0', x0)\n",
        "        for j in range(20):\n",
        "            x0 = np.round(fsolve(derivative, x0), decimals =4)\n",
        "\n",
        "        #print('solutions', solutions)\n",
        "        #print(derivative(solutions))\n",
        "        if (np.abs(derivative(x0)) > 1.0).sum() == 0:\n",
        "            solns.append(tuple(x0))\n",
        "    #print(len(set(solns)))\n",
        "    good_sols =[]\n",
        "    for sol in set(solns):\n",
        "        sol_good = True\n",
        "        if len(good_sols)>0:\n",
        "            for g_sol in good_sols:\n",
        "                if np.sqrt(((np.array(g_sol)-np.array(sol))**2).mean()) < 1e-3:\n",
        "                    sol_good = False\n",
        "                    break\n",
        "        if sol_good == True:\n",
        "            good_sols.append(sol)\n",
        "\n",
        "    #print(len(good_sols), param['g_EE'])\n",
        "    data_dict['regime'].append(len(good_sols))\n",
        "\n",
        "\n",
        "data_dict['g'] = np.array(data_dict['g'])\n",
        "data_dict['gEE'] = np.array(data_dict['gEE'])\n",
        "data_dict['gIE'] = np.array(data_dict['gIE'])\n",
        "data_dict['gEI'] = np.array(data_dict['gEI'])\n",
        "data_dict['cA'] = np.array(data_dict['cA'])\n",
        "data_dict['cB'] = np.array(data_dict['cB'])\n",
        "data_dict['cC'] = np.array(data_dict['cC'])\n",
        "data_dict['regime'] = np.array(data_dict['regime'])\n",
        "\n",
        "regime={}\n",
        "regime['fixed_point'] = ['FixedPoint', len(data_dict['regime'][data_dict['regime'] == 1])]\n",
        "regime['bistable'] = ['Bistable', len(data_dict['regime'][data_dict['regime'] > 1])]\n",
        "\n",
        "for i in range(8):\n",
        "    if i<7:\n",
        "        sns.kdeplot(ax =ax[i//4, i%4], data= data_dict[para_name[i]])\n",
        "        ax[i//4, i%4].set_title('hist of ' + para_name[i] +' across subjects')\n",
        "    else:\n",
        "        sns.barplot(ax=ax[i//4, i%4], x = 'regime', y = 'value', data = pd.DataFrame.from_dict(regime, orient='index', columns= ['regime','value']))\n",
        "        ax[i//4, i%4].set_title('hist of ' + para_name[i] +' across subjects')\n",
        "  \n",
        "plt.show()\n",
        "fig.savefig(base_dir+'HCP_hist_modelparas+regime.png')\n",
        "\n",
        "        \n",
        "        \n"
      ],
      "execution_count": null,
      "outputs": []
    },
    {
      "cell_type": "code",
      "metadata": {
        "id": "NLduZnAX2WdF"
      },
      "source": [
        "df = pd.DataFrame.from_dict(regime, orient='index', columns= ['value'])"
      ],
      "execution_count": null,
      "outputs": []
    },
    {
      "cell_type": "code",
      "metadata": {
        "id": "ruP04hKx2fvc"
      },
      "source": [
        "groups"
      ],
      "execution_count": null,
      "outputs": []
    },
    {
      "cell_type": "code",
      "metadata": {
        "id": "olFU2HBFsxK-"
      },
      "source": [
        "fig, ax = plt.subplots(1,3, figsize=(40,20))\n",
        "for k, grp in enumerate(groups):\n",
        "    HCP_para = ppmi[grp]['para']\n",
        "    HCP_fc = ppmi[grp]['fc']\n",
        "    HCP_fc_sim = ppmi[grp]['fc_sim']\n",
        "    HCP_fc_test = ppmi[grp]['fc_test']\n",
        "\n",
        "    mask=np.tril_indices(96,-1)\n",
        "    data_dict={}\n",
        "    data_dict['g'] = []\n",
        "    data_dict['gEE'] = []\n",
        "    data_dict['gIE'] = []\n",
        "    data_dict['gEI'] = []\n",
        "    data_dict['cA'] = []\n",
        "    data_dict['cB'] = []\n",
        "    data_dict['cC'] = []\n",
        "    data_dict['corr'] = []\n",
        "    data_dict['corr_test'] = []\n",
        "    para_name = ['g', 'gEE', 'gIE', 'gEI', 'cA', 'cB', 'cC', 'corr', 'corr_test']\n",
        "    for sub in HCP_para:\n",
        "        \n",
        "        data_dict['g'].append(HCP_para[sub][-10:,0].mean())\n",
        "        data_dict['gEE'].append(HCP_para[sub][-10:,1].mean())\n",
        "        data_dict['gIE'].append(HCP_para[sub][-10:,2].mean())\n",
        "        data_dict['gEI'].append(HCP_para[sub][-10:,3].mean())\n",
        "        data_dict['cA'].append(HCP_para[sub][-10:,4].mean())\n",
        "        data_dict['cB'].append(HCP_para[sub][-10:,5].mean())\n",
        "        data_dict['cC'].append(HCP_para[sub][-10:,6].mean())\n",
        "        data_dict['corr'].append(np.corrcoef(HCP_fc[sub][mask], HCP_fc_sim[sub][mask])[0,1])\n",
        "        data_dict['corr_test'].append(np.corrcoef(HCP_fc[sub][mask], HCP_fc_test[sub][mask])[0,1])\n",
        "    data_dict['g'] = np.array(data_dict['g'])\n",
        "    data_dict['gEE'] = np.array(data_dict['gEE'])\n",
        "    data_dict['gIE'] = np.array(data_dict['gIE'])\n",
        "    data_dict['gEI'] = np.array(data_dict['gEI'])\n",
        "    data_dict['cA'] = np.array(data_dict['cA'])\n",
        "    data_dict['cB'] = np.array(data_dict['cB'])\n",
        "    data_dict['cC'] = np.array(data_dict['cC'])\n",
        "    data_dict['corr'] = np.array(data_dict['corr'])\n",
        "    data_dict['corr_test'] = np.array(data_dict['corr_test'])\n",
        "\n",
        "    corr_paras =np.zeros((len(data_dict), len(data_dict)))\n",
        "    for i in range(len(data_dict)):\n",
        "        for j in range(len(data_dict)):\n",
        "          corr_paras[i,j] = np.corrcoef(data_dict[para_name[i]], data_dict[para_name[j]])[0,1]\n",
        "\n",
        "\n",
        "    im = ax[k].imshow(corr_paras, cmap = 'bwr')\n",
        "    ax[k].set_xticklabels(['0' ]+para_name)\n",
        "    ax[k].set_yticklabels( ['0'] +para_name)\n",
        "    fig.colorbar(im, ax = ax[k], fraction = 0.046, pad = 0.04)\n",
        "    ax[k].set_title(grp, fontsize = '25')\n",
        "    ax[k].tick_params(labelsize = '20')\n",
        "#plt.suptitle('PPMI dataset: correlation between model parameters and fitting')\n",
        "plt.show()\n",
        "fig.savefig(base_dir+'PPMI_corr_modelparas+fit.png')"
      ],
      "execution_count": null,
      "outputs": []
    },
    {
      "cell_type": "code",
      "metadata": {
        "id": "KK0bEjZDs2LG"
      },
      "source": [
        "grp = 'CON_NC'\n",
        "HCP_para = ppmi_CON_NC_para\n",
        "HCP_fc = ppmi_CON_NC_fc\n",
        "HCP_fc_sim = ppmi_CON_NC_fc_sim\n",
        "fig, ax = plt.subplots(1,1, figsize=(12,8))\n",
        "\n",
        "mask=np.tril_indices(96,-1)\n",
        "data_dict={}\n",
        "data_dict['g'] = []\n",
        "data_dict['gEE'] = []\n",
        "data_dict['gIE'] = []\n",
        "data_dict['gEI'] = []\n",
        "data_dict['cA'] = []\n",
        "data_dict['cB'] = []\n",
        "data_dict['cC'] = []\n",
        "data_dict['corr'] = []\n",
        "#data_dict['corr_test'] = []\n",
        "para_name = ['g', 'gEE', 'gIE', 'gEI', 'cA', 'cB', 'cC', 'corr', 'corr_test']\n",
        "for sub in HCP_para:\n",
        "    \n",
        "    data_dict['g'].append(HCP_para[sub][-10:,0].mean())\n",
        "    data_dict['gEE'].append(HCP_para[sub][-10:,1].mean())\n",
        "    data_dict['gIE'].append(HCP_para[sub][-10:,2].mean())\n",
        "    data_dict['gEI'].append(HCP_para[sub][-10:,3].mean())\n",
        "    data_dict['cA'].append(HCP_para[sub][-10:,4].mean())\n",
        "    data_dict['cB'].append(HCP_para[sub][-10:,5].mean())\n",
        "    data_dict['cC'].append(HCP_para[sub][-10:,6].mean())\n",
        "    data_dict['corr'].append(np.corrcoef(HCP_fc[sub][mask], HCP_fc_sim[sub][mask])[0,1])\n",
        "    #data_dict['corr_test'].append(np.corrcoef(HCP_fc[sub][mask], HCP_fc_test[sub][mask])[0,1])\n",
        "data_dict['g'] = np.array(data_dict['g'])\n",
        "data_dict['gEE'] = np.array(data_dict['gEE'])\n",
        "data_dict['gIE'] = np.array(data_dict['gIE'])\n",
        "data_dict['gEI'] = np.array(data_dict['gEI'])\n",
        "data_dict['cA'] = np.array(data_dict['cA'])\n",
        "data_dict['cB'] = np.array(data_dict['cB'])\n",
        "data_dict['cC'] = np.array(data_dict['cC'])\n",
        "data_dict['corr'] = np.array(data_dict['corr'])\n",
        "#data_dict['corr_test'] = np.array(data_dict['corr_test'])\n",
        "\n",
        "corr_paras =np.zeros((len(data_dict), len(data_dict)))\n",
        "for i in range(len(data_dict)):\n",
        "    for j in range(len(data_dict)):\n",
        "      corr_paras[i,j] = np.corrcoef(data_dict[para_name[i]], data_dict[para_name[j]])[0,1]\n",
        "\n",
        "\n",
        "im = ax.imshow(corr_paras, cmap = 'bwr')\n",
        "ax.set_xticklabels(['0' ]+para_name)\n",
        "ax.set_yticklabels( ['0'] +para_name)\n",
        "fig.colorbar(im, ax = ax)\n",
        "plt.show()\n",
        "fig.savefig(base_dir+'PPMI'+grp+'_corr_modelparas+fit.png')"
      ],
      "execution_count": null,
      "outputs": []
    },
    {
      "cell_type": "code",
      "metadata": {
        "id": "fvzGyvAbTFYC"
      },
      "source": [
        "HCP_fc[sub][mask]"
      ],
      "execution_count": null,
      "outputs": []
    },
    {
      "cell_type": "code",
      "metadata": {
        "id": "iplBkmiFT6UW"
      },
      "source": [
        "np.corrcoef()"
      ],
      "execution_count": null,
      "outputs": []
    }
  ]
}